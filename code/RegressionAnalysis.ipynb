{
 "cells": [
  {
   "cell_type": "code",
   "execution_count": 1,
   "id": "0debfb5d",
   "metadata": {},
   "outputs": [],
   "source": [
    "import matplotlib.pyplot as plt\n",
    "import numpy as np\n",
    "import pandas as pd\n",
    "from matplotlib.pyplot import figure"
   ]
  },
  {
   "cell_type": "markdown",
   "id": "124359b6",
   "metadata": {},
   "source": [
    "## Завдання 1"
   ]
  },
  {
   "cell_type": "code",
   "execution_count": 2,
   "id": "b45dbadf",
   "metadata": {},
   "outputs": [
    {
     "data": {
      "text/html": [
       "<div>\n",
       "<style scoped>\n",
       "    .dataframe tbody tr th:only-of-type {\n",
       "        vertical-align: middle;\n",
       "    }\n",
       "\n",
       "    .dataframe tbody tr th {\n",
       "        vertical-align: top;\n",
       "    }\n",
       "\n",
       "    .dataframe thead th {\n",
       "        text-align: right;\n",
       "    }\n",
       "</style>\n",
       "<table border=\"1\" class=\"dataframe\">\n",
       "  <thead>\n",
       "    <tr style=\"text-align: right;\">\n",
       "      <th></th>\n",
       "      <th>Y</th>\n",
       "    </tr>\n",
       "    <tr>\n",
       "      <th>X</th>\n",
       "      <th></th>\n",
       "    </tr>\n",
       "  </thead>\n",
       "  <tbody>\n",
       "    <tr>\n",
       "      <th>0.77</th>\n",
       "      <td>13.01</td>\n",
       "    </tr>\n",
       "    <tr>\n",
       "      <th>1.14</th>\n",
       "      <td>9.11</td>\n",
       "    </tr>\n",
       "    <tr>\n",
       "      <th>1.57</th>\n",
       "      <td>5.75</td>\n",
       "    </tr>\n",
       "    <tr>\n",
       "      <th>2.35</th>\n",
       "      <td>3.66</td>\n",
       "    </tr>\n",
       "    <tr>\n",
       "      <th>3.09</th>\n",
       "      <td>6.17</td>\n",
       "    </tr>\n",
       "    <tr>\n",
       "      <th>3.58</th>\n",
       "      <td>9.33</td>\n",
       "    </tr>\n",
       "    <tr>\n",
       "      <th>3.80</th>\n",
       "      <td>12.67</td>\n",
       "    </tr>\n",
       "  </tbody>\n",
       "</table>\n",
       "</div>"
      ],
      "text/plain": [
       "          Y\n",
       "X          \n",
       "0.77  13.01\n",
       "1.14   9.11\n",
       "1.57   5.75\n",
       "2.35   3.66\n",
       "3.09   6.17\n",
       "3.58   9.33\n",
       "3.80  12.67"
      ]
     },
     "execution_count": 2,
     "metadata": {},
     "output_type": "execute_result"
    }
   ],
   "source": [
    "x = [0.77, 1.14, 1.57, 2.35, 3.09, 3.58, 3.8]\n",
    "y = [13.01, 9.11, 5.75, 3.66, 6.17, 9.33, 12.67]\n",
    "task1_data = pd.DataFrame({'X' : x, 'Y': y})\n",
    "task1_data = task1_data.set_index('X')\n",
    "task1_data"
   ]
  },
  {
   "cell_type": "code",
   "execution_count": 3,
   "id": "b87f0a03",
   "metadata": {},
   "outputs": [
    {
     "data": {
      "image/png": "[encoded data removed]",
      "text/plain": [
       "<Figure size 432x288 with 1 Axes>"
      ]
     },
     "metadata": {
      "needs_background": "light"
     },
     "output_type": "display_data"
    }
   ],
   "source": [
    "plt.plot(task1_data, 'rX')\n",
    "# plt.plot(task1_data, 'b')\n",
    "# plt.axis([2, 0.1, 0.2, 15])\n",
    "plt.xticks(np.arange(0, 5, 0.5))\n",
    "plt.yticks(np.arange(2, 17, 1))\n",
    "plt.xlabel('X')\n",
    "plt.ylabel('Y')\n",
    "plt.grid(True)\n",
    "# plt.legend()\n",
    "# plt.show()\n",
    "plt.savefig('./pictures/task1_data_2.jpg', dpi=300)"
   ]
  },
  {
   "cell_type": "code",
   "execution_count": 4,
   "id": "2a30cf71",
   "metadata": {},
   "outputs": [
    {
     "data": {
      "text/plain": [
       "array([[ 1.    ,  0.77  ,  0.5929],\n",
       "       [ 1.    ,  1.14  ,  1.2996],\n",
       "       [ 1.    ,  1.57  ,  2.4649],\n",
       "       [ 1.    ,  2.35  ,  5.5225],\n",
       "       [ 1.    ,  3.09  ,  9.5481],\n",
       "       [ 1.    ,  3.58  , 12.8164],\n",
       "       [ 1.    ,  3.8   , 14.44  ]])"
      ]
     },
     "execution_count": 4,
     "metadata": {},
     "output_type": "execute_result"
    }
   ],
   "source": [
    "F_1 = np.array([[1 for i in range(0, 7)], x, [i**2 for i in x]]).transpose()\n",
    "F_1"
   ]
  },
  {
   "cell_type": "code",
   "execution_count": 5,
   "id": "ec13f655",
   "metadata": {},
   "outputs": [
    {
     "data": {
      "text/plain": [
       "array([[  7.       ,  16.3      ,  46.6844   ],\n",
       "       [ 16.3      ,  46.6844   , 149.044186 ],\n",
       "       [ 46.6844   , 149.044186 , 502.5541514]])"
      ]
     },
     "execution_count": 5,
     "metadata": {},
     "output_type": "execute_result"
    }
   ],
   "source": [
    "A_1 = F_1.transpose() @ F_1\n",
    "A_1"
   ]
  },
  {
   "cell_type": "code",
   "execution_count": 6,
   "id": "1aeb6484",
   "metadata": {},
   "outputs": [
    {
     "data": {
      "text/plain": [
       "array([[ 4.24536919, -4.1988219 ,  0.85088836],\n",
       "       [-4.1988219 ,  4.5557084 , -0.96105538],\n",
       "       [ 0.85088836, -0.96105538,  0.20797063]])"
      ]
     },
     "execution_count": 6,
     "metadata": {},
     "output_type": "execute_result"
    }
   ],
   "source": [
    "A_1_inv = np.linalg.inv(A_1)\n",
    "A_1_inv"
   ]
  },
  {
   "cell_type": "code",
   "execution_count": 7,
   "id": "39babb04",
   "metadata": {},
   "outputs": [
    {
     "data": {
      "text/plain": [
       "array([[13.01],\n",
       "       [ 9.11],\n",
       "       [ 5.75],\n",
       "       [ 3.66],\n",
       "       [ 6.17],\n",
       "       [ 9.33],\n",
       "       [12.67]])"
      ]
     },
     "execution_count": 7,
     "metadata": {},
     "output_type": "execute_result"
    }
   ],
   "source": [
    "mu_1_vals = task1_data['Y'].to_numpy()\n",
    "mu_1_vals.shape = (-1, 1)\n",
    "mu_1_vals"
   ]
  },
  {
   "cell_type": "code",
   "execution_count": 8,
   "id": "bd207bae",
   "metadata": {},
   "outputs": [
    {
     "data": {
      "text/plain": [
       "array([[ 24.74961129],\n",
       "       [-18.25186484],\n",
       "       [  3.94046229]])"
      ]
     },
     "execution_count": 8,
     "metadata": {},
     "output_type": "execute_result"
    }
   ],
   "source": [
    "beta_1_estim = A_1_inv @ F_1.transpose() @ mu_1_vals\n",
    "beta_1_estim"
   ]
  },
  {
   "cell_type": "code",
   "execution_count": 9,
   "id": "fbb7a942",
   "metadata": {},
   "outputs": [],
   "source": [
    "lin_model1 = lambda p1,p2,p3,x: p1 + p2 *x + p3 * x**2"
   ]
  },
  {
   "cell_type": "code",
   "execution_count": 10,
   "id": "4b5b5f22",
   "metadata": {},
   "outputs": [
    {
     "data": {
      "image/png": "[encoded data removed]",
      "text/plain": [
       "<Figure size 800x640 with 1 Axes>"
      ]
     },
     "metadata": {},
     "output_type": "display_data"
    }
   ],
   "source": [
    "figure(num=None, figsize=(10, 8), dpi=80, facecolor='w', edgecolor='k')\n",
    "plt.plot(task1_data, 'rX')\n",
    "# plt.plot(task1_data, 'b')\n",
    "# plt.axis([2, 0.1, 0.2, 15])\n",
    "plt.xticks(np.arange(0, 5, 0.5))\n",
    "plt.yticks(np.arange(2, 17, 1))\n",
    "plt.xlabel('X')\n",
    "plt.ylabel('Y')\n",
    "plt.grid(True)\n",
    "# plt.legend()\n",
    "plt.plot(np.arange(0.5, 4, 0.01), lin_model1( 24.74961129, -18.25186484, 3.94046229, np.arange(0.5, 4, 0.01)), 'b')\n",
    "# plt.show()\n",
    "\n",
    "plt.savefig('./pictures/task1_polynomial_regr.jpg', dpi=300)"
   ]
  },
  {
   "cell_type": "code",
   "execution_count": 11,
   "id": "8d375565",
   "metadata": {},
   "outputs": [],
   "source": [
    "n = 7\n",
    "m = 3"
   ]
  },
  {
   "cell_type": "code",
   "execution_count": 12,
   "id": "f2b57d9f",
   "metadata": {},
   "outputs": [
    {
     "data": {
      "text/plain": [
       "0.131183052708195"
      ]
     },
     "execution_count": 12,
     "metadata": {},
     "output_type": "execute_result"
    }
   ],
   "source": [
    "sigma_1 = (1/(n-m)) * np.linalg.norm(mu_1_vals - F_1 @ beta_1_estim)**2\n",
    "sigma_1"
   ]
  },
  {
   "cell_type": "code",
   "execution_count": 13,
   "id": "f912a3ad",
   "metadata": {},
   "outputs": [
    {
     "data": {
      "text/plain": [
       "12.533547619047617"
      ]
     },
     "execution_count": 13,
     "metadata": {},
     "output_type": "execute_result"
    }
   ],
   "source": [
    "D_1 = (n/(n-1))*mu_1_vals.var()\n",
    "D_1"
   ]
  },
  {
   "cell_type": "code",
   "execution_count": 14,
   "id": "ae05e158",
   "metadata": {},
   "outputs": [
    {
     "data": {
      "text/plain": [
       "0.52473221083278"
      ]
     },
     "execution_count": 14,
     "metadata": {},
     "output_type": "execute_result"
    }
   ],
   "source": [
    "np.sum((mu_1_vals - F_1 @ beta_1_estim)**2)"
   ]
  },
  {
   "cell_type": "code",
   "execution_count": 15,
   "id": "42a2acda",
   "metadata": {},
   "outputs": [
    {
     "data": {
      "text/plain": [
       "0.52473221083278"
      ]
     },
     "execution_count": 15,
     "metadata": {},
     "output_type": "execute_result"
    }
   ],
   "source": [
    "np.linalg.norm(mu_1_vals - F_1 @ beta_1_estim)**2"
   ]
  },
  {
   "cell_type": "code",
   "execution_count": 16,
   "id": "f1deae07",
   "metadata": {},
   "outputs": [
    {
     "data": {
      "text/plain": [
       "75.2012857142857"
      ]
     },
     "execution_count": 16,
     "metadata": {},
     "output_type": "execute_result"
    }
   ],
   "source": [
    "np.sum((mu_1_vals - mu_1_vals.mean())**2) "
   ]
  },
  {
   "cell_type": "code",
   "execution_count": 17,
   "id": "3b939d6f",
   "metadata": {},
   "outputs": [
    {
     "data": {
      "text/plain": [
       "75.2012857142857"
      ]
     },
     "execution_count": 17,
     "metadata": {},
     "output_type": "execute_result"
    }
   ],
   "source": [
    "mu_1_vals.var()*n"
   ]
  },
  {
   "cell_type": "code",
   "execution_count": 18,
   "id": "38707862",
   "metadata": {},
   "outputs": [
    {
     "data": {
      "text/plain": [
       "95.54242991224923"
      ]
     },
     "execution_count": 18,
     "metadata": {},
     "output_type": "execute_result"
    }
   ],
   "source": [
    "gamma_adeq_1 =D_1/ sigma_1\n",
    "gamma_adeq_1"
   ]
  },
  {
   "cell_type": "code",
   "execution_count": 19,
   "id": "d0a68dac",
   "metadata": {},
   "outputs": [
    {
     "data": {
      "text/plain": [
       "3.940462292776324"
      ]
     },
     "execution_count": 19,
     "metadata": {},
     "output_type": "execute_result"
    }
   ],
   "source": [
    "beta_1_estim[2, 0]"
   ]
  },
  {
   "cell_type": "code",
   "execution_count": 20,
   "id": "aea5710c",
   "metadata": {},
   "outputs": [
    {
     "data": {
      "text/plain": [
       "23.856531730863363"
      ]
     },
     "execution_count": 20,
     "metadata": {},
     "output_type": "execute_result"
    }
   ],
   "source": [
    "gamma_rel_1 = beta_1_estim[2, 0] / (np.sqrt(sigma_1 * A_1_inv[2, 2]))\n",
    "gamma_rel_1"
   ]
  },
  {
   "cell_type": "code",
   "execution_count": 21,
   "id": "0cd6a197",
   "metadata": {},
   "outputs": [],
   "source": [
    "regres_t1 = lambda x: beta_1_estim[0, 0] + beta_1_estim[1, 0] * x + beta_1_estim[2, 0] * x**2"
   ]
  },
  {
   "cell_type": "code",
   "execution_count": 22,
   "id": "a7cf9cb1",
   "metadata": {},
   "outputs": [
    {
     "data": {
      "text/plain": [
       "(-22.66241, 30.67787)"
      ]
     },
     "execution_count": 22,
     "metadata": {},
     "output_type": "execute_result"
    }
   ],
   "source": [
    "x_1 = 2\n",
    "x_vec_1 = np.array([[1],[10],[10**2]])\n",
    "t_1 = 2.776\n",
    "left_mean_1 = regres_t1(x_1) - t_1*np.sqrt(sigma_1 * (x_vec_1.transpose() @ A_1_inv @ x_vec_1)[0,0])\n",
    "right_mean_1 = regres_t1(x_1) + t_1*np.sqrt(sigma_1 * (x_vec_1.transpose() @ A_1_inv @ x_vec_1)[0,0])\n",
    "(round(left_mean_1,5), round(right_mean_1,5))"
   ]
  },
  {
   "cell_type": "code",
   "execution_count": 23,
   "id": "55132e0b",
   "metadata": {},
   "outputs": [
    {
     "data": {
      "text/plain": [
       "(-22.68135, 30.69681)"
      ]
     },
     "execution_count": 23,
     "metadata": {},
     "output_type": "execute_result"
    }
   ],
   "source": [
    "left_val_1 = regres_t1(x_1) - t_1*np.sqrt(sigma_1 * (1 + x_vec_1.transpose() @ A_1_inv @ x_vec_1)[0,0])\n",
    "right_val_1 = regres_t1(x_1) + t_1*np.sqrt(sigma_1 * (1 + x_vec_1.transpose() @ A_1_inv @ x_vec_1)[0,0])\n",
    "(round(left_val_1,5), round(right_val_1,5))"
   ]
  },
  {
   "cell_type": "markdown",
   "id": "f12b194a",
   "metadata": {},
   "source": [
    "## Завдання 2"
   ]
  },
  {
   "cell_type": "code",
   "execution_count": 24,
   "id": "5092a5c8",
   "metadata": {},
   "outputs": [
    {
     "data": {
      "text/html": [
       "<div>\n",
       "<style scoped>\n",
       "    .dataframe tbody tr th:only-of-type {\n",
       "        vertical-align: middle;\n",
       "    }\n",
       "\n",
       "    .dataframe tbody tr th {\n",
       "        vertical-align: top;\n",
       "    }\n",
       "\n",
       "    .dataframe thead th {\n",
       "        text-align: right;\n",
       "    }\n",
       "</style>\n",
       "<table border=\"1\" class=\"dataframe\">\n",
       "  <thead>\n",
       "    <tr style=\"text-align: right;\">\n",
       "      <th></th>\n",
       "      <th>X1</th>\n",
       "      <th>X2</th>\n",
       "      <th>Y</th>\n",
       "    </tr>\n",
       "  </thead>\n",
       "  <tbody>\n",
       "    <tr>\n",
       "      <th>0</th>\n",
       "      <td>2</td>\n",
       "      <td>1</td>\n",
       "      <td>600</td>\n",
       "    </tr>\n",
       "    <tr>\n",
       "      <th>1</th>\n",
       "      <td>2</td>\n",
       "      <td>1</td>\n",
       "      <td>800</td>\n",
       "    </tr>\n",
       "    <tr>\n",
       "      <th>2</th>\n",
       "      <td>2</td>\n",
       "      <td>1</td>\n",
       "      <td>700</td>\n",
       "    </tr>\n",
       "    <tr>\n",
       "      <th>3</th>\n",
       "      <td>7</td>\n",
       "      <td>7</td>\n",
       "      <td>1300</td>\n",
       "    </tr>\n",
       "    <tr>\n",
       "      <th>4</th>\n",
       "      <td>7</td>\n",
       "      <td>7</td>\n",
       "      <td>1100</td>\n",
       "    </tr>\n",
       "    <tr>\n",
       "      <th>5</th>\n",
       "      <td>3</td>\n",
       "      <td>3</td>\n",
       "      <td>700</td>\n",
       "    </tr>\n",
       "    <tr>\n",
       "      <th>6</th>\n",
       "      <td>3</td>\n",
       "      <td>3</td>\n",
       "      <td>650</td>\n",
       "    </tr>\n",
       "    <tr>\n",
       "      <th>7</th>\n",
       "      <td>4</td>\n",
       "      <td>2</td>\n",
       "      <td>600</td>\n",
       "    </tr>\n",
       "    <tr>\n",
       "      <th>8</th>\n",
       "      <td>4</td>\n",
       "      <td>2</td>\n",
       "      <td>750</td>\n",
       "    </tr>\n",
       "    <tr>\n",
       "      <th>9</th>\n",
       "      <td>3</td>\n",
       "      <td>4</td>\n",
       "      <td>1000</td>\n",
       "    </tr>\n",
       "    <tr>\n",
       "      <th>10</th>\n",
       "      <td>8</td>\n",
       "      <td>9</td>\n",
       "      <td>800</td>\n",
       "    </tr>\n",
       "    <tr>\n",
       "      <th>11</th>\n",
       "      <td>8</td>\n",
       "      <td>9</td>\n",
       "      <td>1200</td>\n",
       "    </tr>\n",
       "    <tr>\n",
       "      <th>12</th>\n",
       "      <td>1</td>\n",
       "      <td>1</td>\n",
       "      <td>700</td>\n",
       "    </tr>\n",
       "    <tr>\n",
       "      <th>13</th>\n",
       "      <td>1</td>\n",
       "      <td>1</td>\n",
       "      <td>400</td>\n",
       "    </tr>\n",
       "    <tr>\n",
       "      <th>14</th>\n",
       "      <td>6</td>\n",
       "      <td>3</td>\n",
       "      <td>900</td>\n",
       "    </tr>\n",
       "  </tbody>\n",
       "</table>\n",
       "</div>"
      ],
      "text/plain": [
       "    X1  X2     Y\n",
       "0    2   1   600\n",
       "1    2   1   800\n",
       "2    2   1   700\n",
       "3    7   7  1300\n",
       "4    7   7  1100\n",
       "5    3   3   700\n",
       "6    3   3   650\n",
       "7    4   2   600\n",
       "8    4   2   750\n",
       "9    3   4  1000\n",
       "10   8   9   800\n",
       "11   8   9  1200\n",
       "12   1   1   700\n",
       "13   1   1   400\n",
       "14   6   3   900"
      ]
     },
     "execution_count": 24,
     "metadata": {},
     "output_type": "execute_result"
    }
   ],
   "source": [
    "task2_data = pd.DataFrame({'X1': [2, 2, 2, 7, 7, 3, 3, 4, 4, 3, 8,8,1,1,6],\n",
    "                           'X2': [1,1,1,7,7,3,3,2,2,4,9,9,1,1,3],\n",
    "                           'Y': [600,800,700,1300,1100,700,650,600,750,1000,800,1200,700,400,900]})\n",
    "task2_data"
   ]
  },
  {
   "cell_type": "code",
   "execution_count": 25,
   "id": "b99a8a5e",
   "metadata": {},
   "outputs": [
    {
     "data": {
      "image/png": "[encoded data removed]",
      "text/plain": [
       "<Figure size 432x288 with 1 Axes>"
      ]
     },
     "metadata": {
      "needs_background": "light"
     },
     "output_type": "display_data"
    }
   ],
   "source": [
    "fig = plt.figure()\n",
    "ax = plt.axes(projection='3d')\n",
    "ax.scatter3D(task2_data['X1'].to_numpy(), task2_data['X2'].to_numpy(), task2_data['Y'].to_numpy(), c=\"b\")\n",
    "ax.set_xlabel('X1')\n",
    "ax.set_ylabel('X2')\n",
    "ax.set_zlabel('Y')\n",
    "ax.view_init(elev=30, azim = 10)\n",
    "# ax.set_xticks([0, 2, 4, 6, 8, 10])\n",
    "# ax.set_yticks([-10, -5, 0, 5, 10])\n",
    "# ax.set_zticks([-4, -2, 0, 2, 4, 6, 8, 10])\n",
    "plt.show()\n",
    "fig.savefig('./pictures/task2_data.png', dpi=300)"
   ]
  },
  {
   "cell_type": "code",
   "execution_count": null,
   "id": "e36d0ced",
   "metadata": {},
   "outputs": [],
   "source": []
  },
  {
   "cell_type": "code",
   "execution_count": 26,
   "id": "8cd57ac9",
   "metadata": {
    "scrolled": true
   },
   "outputs": [
    {
     "data": {
      "text/plain": [
       "array([[1., 2., 1.],\n",
       "       [1., 2., 1.],\n",
       "       [1., 2., 1.],\n",
       "       [1., 7., 7.],\n",
       "       [1., 7., 7.],\n",
       "       [1., 3., 3.],\n",
       "       [1., 3., 3.],\n",
       "       [1., 4., 2.],\n",
       "       [1., 4., 2.],\n",
       "       [1., 3., 4.],\n",
       "       [1., 8., 9.],\n",
       "       [1., 8., 9.],\n",
       "       [1., 1., 1.],\n",
       "       [1., 1., 1.],\n",
       "       [1., 6., 3.]])"
      ]
     },
     "execution_count": 26,
     "metadata": {},
     "output_type": "execute_result"
    }
   ],
   "source": [
    "F_2 = np.vstack([np.ones(15), task2_data['X1'].to_numpy(),\n",
    "                 task2_data['X2'].to_numpy()]).transpose()\n",
    "F_2"
   ]
  },
  {
   "cell_type": "code",
   "execution_count": 27,
   "id": "297b63fc",
   "metadata": {},
   "outputs": [
    {
     "name": "stdout",
     "output_type": "stream",
     "text": [
      "1  &  1  &  1  &  1  &  1  &  1  &  1  &  1  &  1  &  1  &  1  &  1  &  1  &  1  &  1  &  \\\\\n",
      "2  &  2  &  2  &  7  &  7  &  3  &  3  &  4  &  4  &  3  &  8  &  8  &  1  &  1  &  6  &  \\\\\n",
      "1  &  1  &  1  &  7  &  7  &  3  &  3  &  2  &  2  &  4  &  9  &  9  &  1  &  1  &  3  &  \\\\\n"
     ]
    }
   ],
   "source": [
    "for i in F_2.T:\n",
    "    for j in i:\n",
    "        print(int(j), \" & \", end = ' ')\n",
    "    print('\\\\\\\\')"
   ]
  },
  {
   "cell_type": "code",
   "execution_count": 28,
   "id": "775a005f",
   "metadata": {},
   "outputs": [
    {
     "data": {
      "text/plain": [
       "15"
      ]
     },
     "execution_count": 28,
     "metadata": {},
     "output_type": "execute_result"
    }
   ],
   "source": [
    "len(F_2)"
   ]
  },
  {
   "cell_type": "code",
   "execution_count": 29,
   "id": "a3cfd295",
   "metadata": {},
   "outputs": [
    {
     "data": {
      "text/plain": [
       "array([[ 15.,  61.,  54.],\n",
       "       [ 61., 335., 314.],\n",
       "       [ 54., 314., 316.]])"
      ]
     },
     "execution_count": 29,
     "metadata": {},
     "output_type": "execute_result"
    }
   ],
   "source": [
    "A_2 = F_2.transpose() @ F_2\n",
    "A_2\n"
   ]
  },
  {
   "cell_type": "code",
   "execution_count": 30,
   "id": "c66da4dd",
   "metadata": {},
   "outputs": [
    {
     "name": "stdout",
     "output_type": "stream",
     "text": [
      "15  &  61  &  54  &  \\\\\n",
      "61  &  335  &  314  &  \\\\\n",
      "54  &  314  &  316  &  \\\\\n"
     ]
    }
   ],
   "source": [
    "for i in A_2.T:\n",
    "    for j in i:\n",
    "        print(int(j), \" & \", end = ' ')\n",
    "    print('\\\\\\\\')"
   ]
  },
  {
   "cell_type": "code",
   "execution_count": 31,
   "id": "9e4388d8",
   "metadata": {},
   "outputs": [
    {
     "data": {
      "text/plain": [
       "array([[ 0.29177378, -0.09318766,  0.04273779],\n",
       "       [-0.09318766,  0.07326478, -0.05687661],\n",
       "       [ 0.04273779, -0.05687661,  0.05237789]])"
      ]
     },
     "execution_count": 31,
     "metadata": {},
     "output_type": "execute_result"
    }
   ],
   "source": [
    "A_2_inv = np.linalg.inv(A_2)\n",
    "A_2_inv"
   ]
  },
  {
   "cell_type": "code",
   "execution_count": 32,
   "id": "02f563bd",
   "metadata": {},
   "outputs": [
    {
     "name": "stdout",
     "output_type": "stream",
     "text": [
      "0.29177  &  -0.09319  &  0.04274  &  \\\\\n",
      "-0.09319  &  0.07326  &  -0.05688  &  \\\\\n",
      "0.04274  &  -0.05688  &  0.05238  &  \\\\\n"
     ]
    }
   ],
   "source": [
    "for i in A_2_inv.T:\n",
    "    for j in i:\n",
    "        print(round(j,5), \" & \", end = ' ')\n",
    "    print('\\\\\\\\')"
   ]
  },
  {
   "cell_type": "code",
   "execution_count": 33,
   "id": "4a4c22de",
   "metadata": {},
   "outputs": [
    {
     "data": {
      "text/plain": [
       "0.05237789203084853"
      ]
     },
     "execution_count": 33,
     "metadata": {},
     "output_type": "execute_result"
    }
   ],
   "source": [
    "A_2_inv[2,2]"
   ]
  },
  {
   "cell_type": "code",
   "execution_count": 34,
   "id": "60db8323",
   "metadata": {},
   "outputs": [
    {
     "data": {
      "text/plain": [
       "array([[ 600],\n",
       "       [ 800],\n",
       "       [ 700],\n",
       "       [1300],\n",
       "       [1100],\n",
       "       [ 700],\n",
       "       [ 650],\n",
       "       [ 600],\n",
       "       [ 750],\n",
       "       [1000],\n",
       "       [ 800],\n",
       "       [1200],\n",
       "       [ 700],\n",
       "       [ 400],\n",
       "       [ 900]])"
      ]
     },
     "execution_count": 34,
     "metadata": {},
     "output_type": "execute_result"
    }
   ],
   "source": [
    "mu_2_vals = task2_data['Y'].to_numpy()\n",
    "mu_2_vals.shape = (15, 1)\n",
    "mu_2_vals"
   ]
  },
  {
   "cell_type": "code",
   "execution_count": 35,
   "id": "219b2c30",
   "metadata": {},
   "outputs": [
    {
     "name": "stdout",
     "output_type": "stream",
     "text": [
      "600 ,\\;\\; 800 ,\\;\\; 700 ,\\;\\; 1300 ,\\;\\; 1100 ,\\;\\; 700 ,\\;\\; 650 ,\\;\\; 600 ,\\;\\; 750 ,\\;\\; 1000 ,\\;\\; 800 ,\\;\\; 1200 ,\\;\\; 700 ,\\;\\; 400 ,\\;\\; 900 ,\\;\\; "
     ]
    }
   ],
   "source": [
    "for i in mu_2_vals:\n",
    "    print(int(i), \",\\;\\;\", end = ' ')"
   ]
  },
  {
   "cell_type": "code",
   "execution_count": 36,
   "id": "43f45bd2",
   "metadata": {},
   "outputs": [
    {
     "data": {
      "text/plain": [
       "array([[544.64974293],\n",
       "       [ 35.97365039],\n",
       "       [ 33.99742931]])"
      ]
     },
     "execution_count": 36,
     "metadata": {},
     "output_type": "execute_result"
    }
   ],
   "source": [
    "beta_2_estim = A_2_inv @ F_2.transpose() @ mu_2_vals\n",
    "beta_2_estim"
   ]
  },
  {
   "cell_type": "code",
   "execution_count": 37,
   "id": "bdb45554",
   "metadata": {},
   "outputs": [],
   "source": [
    "regres_t2 = lambda x1, x2: beta_2_estim[0, 0] + beta_2_estim[1, 0] * x1 + beta_2_estim[2, 0] * x2"
   ]
  },
  {
   "cell_type": "code",
   "execution_count": 38,
   "id": "d599fe1b",
   "metadata": {},
   "outputs": [],
   "source": [
    "n, m = 15, 3"
   ]
  },
  {
   "cell_type": "code",
   "execution_count": 39,
   "id": "3b851ebd",
   "metadata": {},
   "outputs": [
    {
     "data": {
      "text/plain": [
       "2.014623266406792"
      ]
     },
     "execution_count": 39,
     "metadata": {},
     "output_type": "execute_result"
    }
   ],
   "source": [
    "sigma_2 = (1/(n-m)) * np.linalg.norm(mu_2_vals - F_2 @ beta_2_estim)**2\n",
    "D_2 = (n/(n-1))*mu_2_vals.var()\n",
    "gamma_adeq_2 = D_2 / sigma_2 \n",
    "gamma_adeq_2"
   ]
  },
  {
   "cell_type": "code",
   "execution_count": 40,
   "id": "a6396015",
   "metadata": {},
   "outputs": [
    {
     "data": {
      "text/plain": [
       "60166.66666666667"
      ]
     },
     "execution_count": 40,
     "metadata": {},
     "output_type": "execute_result"
    }
   ],
   "source": [
    "mu_2_vals.var() * n / (n-1)"
   ]
  },
  {
   "cell_type": "code",
   "execution_count": 41,
   "id": "618b9fd4",
   "metadata": {},
   "outputs": [
    {
     "data": {
      "text/plain": [
       "358379.6593830333"
      ]
     },
     "execution_count": 41,
     "metadata": {},
     "output_type": "execute_result"
    }
   ],
   "source": [
    "np.sum((mu_2_vals - F_2 @ beta_2_estim)**2) #/ (12)"
   ]
  },
  {
   "cell_type": "code",
   "execution_count": 42,
   "id": "279f651f",
   "metadata": {},
   "outputs": [
    {
     "data": {
      "text/plain": [
       "358379.6593830333"
      ]
     },
     "execution_count": 42,
     "metadata": {},
     "output_type": "execute_result"
    }
   ],
   "source": [
    "np.linalg.norm(mu_2_vals - F_2 @ beta_2_estim)**2"
   ]
  },
  {
   "cell_type": "code",
   "execution_count": 43,
   "id": "4ade2e36",
   "metadata": {},
   "outputs": [
    {
     "data": {
      "text/plain": [
       "60166.66666666667"
      ]
     },
     "execution_count": 43,
     "metadata": {},
     "output_type": "execute_result"
    }
   ],
   "source": [
    "np.sum((mu_2_vals - mu_2_vals.mean())**2) / (14)"
   ]
  },
  {
   "cell_type": "code",
   "execution_count": 44,
   "id": "a5bc3285",
   "metadata": {},
   "outputs": [
    {
     "data": {
      "text/plain": [
       "29864.971615252773"
      ]
     },
     "execution_count": 44,
     "metadata": {},
     "output_type": "execute_result"
    }
   ],
   "source": [
    "sigma_2"
   ]
  },
  {
   "cell_type": "code",
   "execution_count": 45,
   "id": "f61b7b39",
   "metadata": {},
   "outputs": [
    {
     "data": {
      "text/plain": [
       "60166.666666666664"
      ]
     },
     "execution_count": 45,
     "metadata": {},
     "output_type": "execute_result"
    }
   ],
   "source": [
    "D_2"
   ]
  },
  {
   "cell_type": "code",
   "execution_count": 46,
   "id": "30155527",
   "metadata": {},
   "outputs": [
    {
     "data": {
      "text/plain": [
       "array([[1., 2., 1.],\n",
       "       [1., 2., 1.],\n",
       "       [1., 2., 1.],\n",
       "       [1., 7., 7.],\n",
       "       [1., 7., 7.],\n",
       "       [1., 3., 3.],\n",
       "       [1., 3., 3.],\n",
       "       [1., 4., 2.],\n",
       "       [1., 4., 2.],\n",
       "       [1., 3., 4.],\n",
       "       [1., 8., 9.],\n",
       "       [1., 8., 9.],\n",
       "       [1., 1., 1.],\n",
       "       [1., 1., 1.],\n",
       "       [1., 6., 3.]])"
      ]
     },
     "execution_count": 46,
     "metadata": {},
     "output_type": "execute_result"
    }
   ],
   "source": [
    "F_2"
   ]
  },
  {
   "cell_type": "code",
   "execution_count": 47,
   "id": "5abc41a4",
   "metadata": {},
   "outputs": [
    {
     "data": {
      "text/plain": [
       "array([[ 650.59447301],\n",
       "       [ 650.59447301],\n",
       "       [ 650.59447301],\n",
       "       [1034.44730077],\n",
       "       [1034.44730077],\n",
       "       [ 754.56298201],\n",
       "       [ 754.56298201],\n",
       "       [ 756.53920308],\n",
       "       [ 756.53920308],\n",
       "       [ 788.56041131],\n",
       "       [1138.41580977],\n",
       "       [1138.41580977],\n",
       "       [ 614.62082262],\n",
       "       [ 614.62082262],\n",
       "       [ 862.48393316]])"
      ]
     },
     "execution_count": 47,
     "metadata": {},
     "output_type": "execute_result"
    }
   ],
   "source": [
    "F_2 @ beta_2_estim"
   ]
  },
  {
   "cell_type": "code",
   "execution_count": 48,
   "id": "775b5adc",
   "metadata": {},
   "outputs": [
    {
     "data": {
      "text/plain": [
       "29864.971615252773"
      ]
     },
     "execution_count": 48,
     "metadata": {},
     "output_type": "execute_result"
    }
   ],
   "source": [
    "sigma_2"
   ]
  },
  {
   "cell_type": "code",
   "execution_count": 49,
   "id": "f44def29",
   "metadata": {},
   "outputs": [
    {
     "data": {
      "text/plain": [
       "60166.666666666664"
      ]
     },
     "execution_count": 49,
     "metadata": {},
     "output_type": "execute_result"
    }
   ],
   "source": [
    "D_2"
   ]
  },
  {
   "cell_type": "code",
   "execution_count": 50,
   "id": "1872b736",
   "metadata": {},
   "outputs": [
    {
     "data": {
      "image/png": "[encoded data removed]",
      "text/plain": [
       "<Figure size 432x288 with 1 Axes>"
      ]
     },
     "metadata": {
      "needs_background": "light"
     },
     "output_type": "display_data"
    },
    {
     "data": {
      "image/png": "[encoded data removed]",
      "text/plain": [
       "<Figure size 432x288 with 1 Axes>"
      ]
     },
     "metadata": {
      "needs_background": "light"
     },
     "output_type": "display_data"
    },
    {
     "data": {
      "image/png": "[encoded data removed]",
      "text/plain": [
       "<Figure size 432x288 with 1 Axes>"
      ]
     },
     "metadata": {
      "needs_background": "light"
     },
     "output_type": "display_data"
    }
   ],
   "source": [
    "# fig = plt.figure()\n",
    "plt.plot(task2_data.X1, task2_data.Y, 'rX', label = 'X1, Y')\n",
    "plt.xlabel('X1')\n",
    "plt.ylabel('Y')\n",
    "plt.grid(True)\n",
    "# plt.legend()\n",
    "plt.savefig('./pictures/task2_dep1.pdf', dpi=300)\n",
    "plt.show()\n",
    "\n",
    "plt.plot(task2_data.X2, task2_data.Y, 'bX', label = 'X2, Y')\n",
    "# plt.show()\n",
    "plt.xlabel('X2')\n",
    "plt.ylabel('Y')\n",
    "plt.grid(True)\n",
    "# plt.legend()\n",
    "plt.savefig('./pictures/task2_dep2.pdf', dpi=300)\n",
    "plt.show()\n",
    "plt.plot(np.sqrt(task2_data.X2), np.sqrt(task2_data.Y), 'kX', label = 'X2, Y')\n",
    "# plt.show()\n",
    "plt.xlabel('X2')\n",
    "plt.ylabel('Y')\n",
    "plt.grid(True)\n",
    "plt.show()"
   ]
  },
  {
   "cell_type": "code",
   "execution_count": 51,
   "id": "0188e011",
   "metadata": {},
   "outputs": [
    {
     "data": {
      "image/png": "[encoded data removed]",
      "text/plain": [
       "<Figure size 432x288 with 1 Axes>"
      ]
     },
     "metadata": {
      "needs_background": "light"
     },
     "output_type": "display_data"
    }
   ],
   "source": [
    "# create the figure\n",
    "fig = plt.figure()\n",
    "\n",
    "# add axes\n",
    "ax = fig.add_subplot(111,projection='3d')\n",
    "\n",
    "xx, yy = np.meshgrid(range(10), range(10))\n",
    "z = 495.55617147 + 68.65299335*xx + 8.17627494*yy\n",
    "\n",
    "# plot the plane\n",
    "ax.plot_surface(xx, yy, z, alpha=0.5, label='Побудована оцінка поверхні регресії')\n",
    "\n",
    "# ax = plt.axes(projection='3d')\n",
    "ax.scatter3D(task2_data['X1'].to_numpy(), task2_data['X2'].to_numpy(), task2_data['Y'].to_numpy(), c=\"b\", label = 'Значення відкликів')\n",
    "ax.set_xlabel('X1')\n",
    "ax.set_ylabel('X2')\n",
    "ax.set_zlabel('Y')\n",
    "ax.view_init(elev=20, azim = 70)\n",
    "# plt.legend()\n",
    "plt.show()\n",
    "# fig.savefig('./pictures/task2_fin.png', dpi=300)"
   ]
  },
  {
   "cell_type": "code",
   "execution_count": 52,
   "id": "d8cec376",
   "metadata": {},
   "outputs": [
    {
     "data": {
      "text/plain": [
       "0.8595893343231885"
      ]
     },
     "execution_count": 52,
     "metadata": {},
     "output_type": "execute_result"
    }
   ],
   "source": [
    "gamma_rel_2 = beta_2_estim[2, 0] / (np.sqrt(sigma_2 * A_2_inv[2, 2]))\n",
    "gamma_rel_2"
   ]
  },
  {
   "cell_type": "code",
   "execution_count": 53,
   "id": "acadb23c",
   "metadata": {},
   "outputs": [
    {
     "data": {
      "text/plain": [
       "(785.03483, 1003.97546)"
      ]
     },
     "execution_count": 53,
     "metadata": {},
     "output_type": "execute_result"
    }
   ],
   "source": [
    "x1_2 = 5\n",
    "x2_2 = 5\n",
    "x_vec_2 = np.array([[1],[5],[5]])\n",
    "t_2 =2.179\n",
    "left_mean_2 = regres_t2(x1_2, x2_2) - t_2*np.sqrt(sigma_2 * (x_vec_2.transpose() @ A_2_inv @ x_vec_2)[0,0])\n",
    "right_mean_2 = regres_t2(x1_2, x2_2) + t_2*np.sqrt(sigma_2 * (x_vec_2.transpose() @ A_2_inv @ x_vec_2)[0,0])\n",
    "(round(left_mean_2,5), round(right_mean_2,5))"
   ]
  },
  {
   "cell_type": "code",
   "execution_count": 54,
   "id": "b1815d5a",
   "metadata": {},
   "outputs": [
    {
     "data": {
      "text/plain": [
       "(502.35229, 1286.65799)"
      ]
     },
     "execution_count": 54,
     "metadata": {},
     "output_type": "execute_result"
    }
   ],
   "source": [
    "left_val_2 = regres_t2(x1_2, x2_2) - t_2*np.sqrt(sigma_2 * (1 + x_vec_2.transpose() @ A_2_inv @ x_vec_2)[0,0])\n",
    "right_val_2 = regres_t2(x1_2, x2_2) + t_2*np.sqrt(sigma_2 * (1 + x_vec_2.transpose() @ A_2_inv @ x_vec_2)[0,0])\n",
    "(round(left_val_2, 5), round(right_val_2,5))\n"
   ]
  },
  {
   "cell_type": "code",
   "execution_count": 71,
   "id": "9e519395",
   "metadata": {},
   "outputs": [
    {
     "data": {
      "text/plain": [
       "array([[ 1.,  1.,  4.,  2.],\n",
       "       [ 1.,  1.,  4.,  2.],\n",
       "       [ 1.,  1.,  4.,  2.],\n",
       "       [ 1.,  7., 49., 49.],\n",
       "       [ 1.,  7., 49., 49.],\n",
       "       [ 1.,  3.,  9.,  9.],\n",
       "       [ 1.,  3.,  9.,  9.],\n",
       "       [ 1.,  2., 16.,  8.],\n",
       "       [ 1.,  2., 16.,  8.],\n",
       "       [ 1.,  4.,  9., 12.],\n",
       "       [ 1.,  9., 64., 72.],\n",
       "       [ 1.,  9., 64., 72.],\n",
       "       [ 1.,  1.,  1.,  1.],\n",
       "       [ 1.,  1.,  1.,  1.],\n",
       "       [ 1.,  3., 36., 18.]])"
      ]
     },
     "execution_count": 71,
     "metadata": {},
     "output_type": "execute_result"
    }
   ],
   "source": [
    "F_3 = np.vstack([np.ones(15),\n",
    "#                  task2_data['X1'].to_numpy(),\n",
    "                 task2_data['X2'].to_numpy(), \n",
    "                 task2_data['X1'].to_numpy()**2,\n",
    "#                  task2_data['X2'].to_numpy()**2,\n",
    "                 (task2_data['X2'].to_numpy()*task2_data['X1'].to_numpy())\n",
    "#                 (task2_data['X2'].to_numpy()*task2_data['X1'].to_numpy())**2\n",
    "                ]).transpose()\n",
    "F_3"
   ]
  },
  {
   "cell_type": "code",
   "execution_count": 56,
   "id": "275a970a",
   "metadata": {},
   "outputs": [],
   "source": [
    "def check_adeq(F, mu_vals):\n",
    "    A = F.transpose() @ F\n",
    "    A_inv = np.linalg.inv(A)\n",
    "    beta_estim = A_inv @ F.transpose() @ mu_vals\n",
    "    print(beta_estim)\n",
    "    n = F_3.shape[0]\n",
    "    m = F_3.shape[1]\n",
    "    sigma = (1/(n-m)) * np.linalg.norm(mu_vals - F @ beta_estim)**2\n",
    "    D = (n/(n-1))*mu_vals.var()\n",
    "    gamma_adeq = D / sigma \n",
    "    return gamma_adeq"
   ]
  },
  {
   "cell_type": "code",
   "execution_count": 72,
   "id": "4334d743",
   "metadata": {},
   "outputs": [
    {
     "name": "stdout",
     "output_type": "stream",
     "text": [
      "[[459.71385352]\n",
      " [138.27661831]\n",
      " [  9.86915649]\n",
      " [-17.41660069]]\n"
     ]
    },
    {
     "data": {
      "text/plain": [
       "2.05398036690709"
      ]
     },
     "execution_count": 72,
     "metadata": {},
     "output_type": "execute_result"
    }
   ],
   "source": [
    "check_adeq(F_3, mu_2_vals)"
   ]
  },
  {
   "cell_type": "code",
   "execution_count": 58,
   "id": "6d191407",
   "metadata": {},
   "outputs": [
    {
     "name": "stdout",
     "output_type": "stream",
     "text": [
      "1.0  &  1.0  &  1.0  &  1.0  &  1.0  &  1.0  &  1.0  &  1.0  &  1.0  &  1.0  &  1.0  &  1.0  &  1.0  &  1.0  &  1.0  &  \\\\\n",
      "1.0  &  1.0  &  1.0  &  7.0  &  7.0  &  3.0  &  3.0  &  2.0  &  2.0  &  4.0  &  9.0  &  9.0  &  1.0  &  1.0  &  3.0  &  \\\\\n",
      "4.0  &  4.0  &  4.0  &  49.0  &  49.0  &  9.0  &  9.0  &  16.0  &  16.0  &  9.0  &  64.0  &  64.0  &  1.0  &  1.0  &  36.0  &  \\\\\n",
      "2.0  &  2.0  &  2.0  &  49.0  &  49.0  &  9.0  &  9.0  &  8.0  &  8.0  &  12.0  &  72.0  &  72.0  &  1.0  &  1.0  &  18.0  &  \\\\\n"
     ]
    }
   ],
   "source": [
    "for i in F_3.T:\n",
    "    for j in i:\n",
    "        print(j, \" & \", end = ' ')\n",
    "    print('\\\\\\\\')"
   ]
  },
  {
   "cell_type": "code",
   "execution_count": 59,
   "id": "e13365e0",
   "metadata": {},
   "outputs": [
    {
     "name": "stdout",
     "output_type": "stream",
     "text": [
      "15  &  54  &  335  &  314  &  \\\\\n",
      "54  &  316  &  2114  &  2178  &  \\\\\n",
      "335  &  2114  &  15095  &  15218  &  \\\\\n",
      "314  &  2178  &  15218  &  15942  &  \\\\\n"
     ]
    }
   ],
   "source": [
    " A_3 = F_3.transpose() @ F_3\n",
    "    \n",
    "for i in A_3:\n",
    "    for j in i:\n",
    "        print(int(j), \" & \", end = ' ')\n",
    "    print('\\\\\\\\')"
   ]
  },
  {
   "cell_type": "code",
   "execution_count": 60,
   "id": "8be027bf",
   "metadata": {},
   "outputs": [],
   "source": [
    "A_3_inv = np.linalg.inv(A_3)"
   ]
  },
  {
   "cell_type": "code",
   "execution_count": 61,
   "id": "9891fa2b",
   "metadata": {},
   "outputs": [
    {
     "name": "stdout",
     "output_type": "stream",
     "text": [
      "0.57855  &  -0.3172  &  -0.01641  &  0.04761  &  \\\\\n",
      "-0.3172  &  0.23528  &  0.00523  &  -0.03089  &  \\\\\n",
      "-0.01641  &  0.00523  &  0.00246  &  -0.00274  &  \\\\\n",
      "0.04761  &  -0.03089  &  -0.00274  &  0.00596  &  \\\\\n"
     ]
    }
   ],
   "source": [
    "for i in A_3_inv.T:\n",
    "    for j in i:\n",
    "        print(round(j,5), \" & \", end = ' ')\n",
    "    print('\\\\\\\\')"
   ]
  },
  {
   "cell_type": "code",
   "execution_count": 62,
   "id": "aaa0657a",
   "metadata": {},
   "outputs": [],
   "source": [
    "import seaborn as sns"
   ]
  },
  {
   "cell_type": "code",
   "execution_count": 63,
   "id": "b5d58fe1",
   "metadata": {},
   "outputs": [
    {
     "data": {
      "text/html": [
       "<div>\n",
       "<style scoped>\n",
       "    .dataframe tbody tr th:only-of-type {\n",
       "        vertical-align: middle;\n",
       "    }\n",
       "\n",
       "    .dataframe tbody tr th {\n",
       "        vertical-align: top;\n",
       "    }\n",
       "\n",
       "    .dataframe thead th {\n",
       "        text-align: right;\n",
       "    }\n",
       "</style>\n",
       "<table border=\"1\" class=\"dataframe\">\n",
       "  <thead>\n",
       "    <tr style=\"text-align: right;\">\n",
       "      <th></th>\n",
       "      <th>X1</th>\n",
       "      <th>X2</th>\n",
       "      <th>Y</th>\n",
       "    </tr>\n",
       "  </thead>\n",
       "  <tbody>\n",
       "    <tr>\n",
       "      <th>0</th>\n",
       "      <td>2</td>\n",
       "      <td>1</td>\n",
       "      <td>600</td>\n",
       "    </tr>\n",
       "    <tr>\n",
       "      <th>1</th>\n",
       "      <td>2</td>\n",
       "      <td>1</td>\n",
       "      <td>800</td>\n",
       "    </tr>\n",
       "    <tr>\n",
       "      <th>2</th>\n",
       "      <td>2</td>\n",
       "      <td>1</td>\n",
       "      <td>700</td>\n",
       "    </tr>\n",
       "    <tr>\n",
       "      <th>3</th>\n",
       "      <td>7</td>\n",
       "      <td>7</td>\n",
       "      <td>1300</td>\n",
       "    </tr>\n",
       "    <tr>\n",
       "      <th>4</th>\n",
       "      <td>7</td>\n",
       "      <td>7</td>\n",
       "      <td>1100</td>\n",
       "    </tr>\n",
       "    <tr>\n",
       "      <th>5</th>\n",
       "      <td>3</td>\n",
       "      <td>3</td>\n",
       "      <td>700</td>\n",
       "    </tr>\n",
       "    <tr>\n",
       "      <th>6</th>\n",
       "      <td>3</td>\n",
       "      <td>3</td>\n",
       "      <td>650</td>\n",
       "    </tr>\n",
       "    <tr>\n",
       "      <th>7</th>\n",
       "      <td>4</td>\n",
       "      <td>2</td>\n",
       "      <td>600</td>\n",
       "    </tr>\n",
       "    <tr>\n",
       "      <th>8</th>\n",
       "      <td>4</td>\n",
       "      <td>2</td>\n",
       "      <td>750</td>\n",
       "    </tr>\n",
       "    <tr>\n",
       "      <th>9</th>\n",
       "      <td>3</td>\n",
       "      <td>4</td>\n",
       "      <td>1000</td>\n",
       "    </tr>\n",
       "    <tr>\n",
       "      <th>10</th>\n",
       "      <td>8</td>\n",
       "      <td>9</td>\n",
       "      <td>800</td>\n",
       "    </tr>\n",
       "    <tr>\n",
       "      <th>11</th>\n",
       "      <td>8</td>\n",
       "      <td>9</td>\n",
       "      <td>1200</td>\n",
       "    </tr>\n",
       "    <tr>\n",
       "      <th>12</th>\n",
       "      <td>1</td>\n",
       "      <td>1</td>\n",
       "      <td>700</td>\n",
       "    </tr>\n",
       "    <tr>\n",
       "      <th>13</th>\n",
       "      <td>1</td>\n",
       "      <td>1</td>\n",
       "      <td>400</td>\n",
       "    </tr>\n",
       "    <tr>\n",
       "      <th>14</th>\n",
       "      <td>6</td>\n",
       "      <td>3</td>\n",
       "      <td>900</td>\n",
       "    </tr>\n",
       "  </tbody>\n",
       "</table>\n",
       "</div>"
      ],
      "text/plain": [
       "    X1  X2     Y\n",
       "0    2   1   600\n",
       "1    2   1   800\n",
       "2    2   1   700\n",
       "3    7   7  1300\n",
       "4    7   7  1100\n",
       "5    3   3   700\n",
       "6    3   3   650\n",
       "7    4   2   600\n",
       "8    4   2   750\n",
       "9    3   4  1000\n",
       "10   8   9   800\n",
       "11   8   9  1200\n",
       "12   1   1   700\n",
       "13   1   1   400\n",
       "14   6   3   900"
      ]
     },
     "execution_count": 63,
     "metadata": {},
     "output_type": "execute_result"
    }
   ],
   "source": [
    "task2_data"
   ]
  },
  {
   "cell_type": "code",
   "execution_count": null,
   "id": "b968843d",
   "metadata": {},
   "outputs": [],
   "source": [
    "task2_data = task2_data.drop(columns=[\"X1\",\"X2\"])"
   ]
  },
  {
   "cell_type": "code",
   "execution_count": null,
   "id": "b01556d6",
   "metadata": {},
   "outputs": [],
   "source": [
    "task2_data[\"x1^2\"] = task2_data[\"X1\"]**2\n",
    "task2_data[\"x2^2\"] = task2_data[\"X2\"]**2\n",
    "task2_data[\"x1*x2\"] = (task2_data[\"X1\"]*task2_data[\"X2\"])\n",
    "\n",
    "# task2_data[\"x1/x2\"] = task2_data[\"X1\"]/task2_data[\"X2\"]\n",
    "# task2_data[\"x2/x1\"] = task2_data[\"X2\"]/task2_data[\"X1\"]\n",
    "# task2_data[\"sin x1\"] = np.cos(task2_data[\"X1\"])"
   ]
  },
  {
   "cell_type": "code",
   "execution_count": null,
   "id": "e5657c26",
   "metadata": {},
   "outputs": [],
   "source": [
    "\n",
    "# task2_data[\"sin x1\"] = np.cos(task2_data[\"X1\"])"
   ]
  },
  {
   "cell_type": "code",
   "execution_count": null,
   "id": "f5d26da0",
   "metadata": {},
   "outputs": [],
   "source": [
    "task2_data.corr()"
   ]
  },
  {
   "cell_type": "code",
   "execution_count": null,
   "id": "633ba605",
   "metadata": {},
   "outputs": [],
   "source": [
    "sns.heatmap(task2_data.corr())"
   ]
  },
  {
   "cell_type": "code",
   "execution_count": null,
   "id": "70f98485",
   "metadata": {},
   "outputs": [],
   "source": [
    "# plt.plot(task2_data.X1**2, task2_data.Y, 'rX', label = 'X1^2, Y')\n",
    "# plt.show()\n",
    "# plt.plot(task2_data.X2**2, task2_data.Y, 'bX', label = 'X2^2, Y')\n",
    "# plt.show()\n",
    "# plt.plot(task2_data.X2*task2_data.X1, task2_data.Y, 'kX', label = 'X1*X2, Y')\n",
    "# plt.show()\n",
    "plt.plot(task2_data.X2*task2_data.X1, task2_data.Y, 'kX', label = 'X1*X2, Y')\n",
    "# plt.show()\n",
    "# plt.plot(task2_data.X2*task2_data.X1, np.exp(task2_data.Y), 'kX', label = 'X1*X2, Y')\n",
    "# plt.plot(task1_data, 'b')\n",
    "plt.xlabel('значення факторів')\n",
    "plt.ylabel('значення відкликів')\n",
    "plt.grid(True)\n",
    "# plt.legend()"
   ]
  },
  {
   "cell_type": "markdown",
   "id": "da7b7afd",
   "metadata": {},
   "source": [
    "## Track 3"
   ]
  },
  {
   "cell_type": "code",
   "execution_count": null,
   "id": "6fbd146e",
   "metadata": {},
   "outputs": [],
   "source": [
    "# видалено дублікати та взято середні значення відкликів\n",
    "task2_data_2 = pd.DataFrame({'X1': [2, 7, 3, 4, 3, 8,1,6],\n",
    "                           'X2': [1,7,3,2,4, 9,1,3],\n",
    "                           'Y': [700,1200,675, 675, 1000,1000,550,900]})\n",
    "task2_data_2"
   ]
  },
  {
   "cell_type": "code",
   "execution_count": null,
   "id": "110749e5",
   "metadata": {},
   "outputs": [],
   "source": [
    "# fig = plt.figure()\n",
    "plt.plot(task2_data_2.X1, task2_data_2.Y, 'rX', label = 'X1, Y')\n",
    "plt.xlabel('X1')\n",
    "plt.ylabel('Y')\n",
    "plt.grid(True)\n",
    "# plt.legend()\n",
    "plt.savefig('./pictures/task2_dep1_2.pdf', dpi=300)\n",
    "plt.show()\n",
    "\n",
    "plt.plot(task2_data_2.X2, task2_data_2.Y, 'bX', label = 'X2, Y')\n",
    "# plt.show()\n",
    "plt.xlabel('X2')\n",
    "plt.ylabel('Y')\n",
    "plt.grid(True)\n",
    "# plt.legend()\n",
    "plt.savefig('./pictures/task2_dep2_2.pdf', dpi=300)\n",
    "plt.show()"
   ]
  },
  {
   "cell_type": "code",
   "execution_count": null,
   "id": "eed671aa",
   "metadata": {},
   "outputs": [],
   "source": [
    "task2_data_2.corr()"
   ]
  },
  {
   "cell_type": "code",
   "execution_count": null,
   "id": "893e9325",
   "metadata": {},
   "outputs": [],
   "source": [
    "sns.heatmap(task2_data_2.corr())"
   ]
  },
  {
   "cell_type": "code",
   "execution_count": null,
   "id": "70902290",
   "metadata": {},
   "outputs": [],
   "source": [
    "task2_data_2[\"x1^2\"] = task2_data_2[\"X1\"]**2\n",
    "task2_data_2[\"x2^2\"] = task2_data_2[\"X2\"]**2\n",
    "task2_data_2[\"x1*x2\"] = (task2_data_2[\"X1\"]*task2_data_2[\"X2\"])"
   ]
  },
  {
   "cell_type": "code",
   "execution_count": null,
   "id": "677993f3",
   "metadata": {},
   "outputs": [],
   "source": [
    "task2_data_2.corr()"
   ]
  },
  {
   "cell_type": "code",
   "execution_count": null,
   "id": "60ba6a25",
   "metadata": {},
   "outputs": [],
   "source": [
    "sns.heatmap(task2_data_2.corr())"
   ]
  },
  {
   "cell_type": "code",
   "execution_count": null,
   "id": "71e83c27",
   "metadata": {},
   "outputs": [],
   "source": [
    "mu_4_vals = task2_data_2['Y'].to_numpy()\n",
    "mu_4_vals.shape = (8, 1)\n",
    "mu_4_vals"
   ]
  },
  {
   "cell_type": "code",
   "execution_count": null,
   "id": "7cf62334",
   "metadata": {},
   "outputs": [],
   "source": [
    "task2_data_2.shape"
   ]
  },
  {
   "cell_type": "code",
   "execution_count": null,
   "id": "12a5f554",
   "metadata": {},
   "outputs": [],
   "source": [
    "F_4 = np.vstack([np.ones(8),\n",
    "                 task2_data_2['X1'].to_numpy(),\n",
    "                 task2_data_2['X2'].to_numpy()\n",
    "#                  task2_data_2['X1'].to_numpy()**2,\n",
    "#                  task2_data_2['X2'].to_numpy()**2,\n",
    "#                  (task2_data_2['X2'].to_numpy()*task2_data_2['X1'].to_numpy()),\n",
    "#                  np.log(task2_data_2['X2'].to_numpy()*task2_data_2['X1'].to_numpy())\n",
    "                ]).transpose()\n",
    "F_4"
   ]
  },
  {
   "cell_type": "code",
   "execution_count": null,
   "id": "f799a85a",
   "metadata": {},
   "outputs": [],
   "source": [
    "A4 = F_4.transpose() @ F_4\n",
    "A4_inv = np.linalg.inv(A4)\n",
    "for i in A4_inv.T:\n",
    "    for j in i:\n",
    "        print(round(j, 5), \" & \", end = ' ')\n",
    "    print('\\\\\\\\')"
   ]
  },
  {
   "cell_type": "code",
   "execution_count": null,
   "id": "ff6334e8",
   "metadata": {},
   "outputs": [],
   "source": [
    "def check_adeq(F, mu_vals):\n",
    "    A = F.transpose() @ F\n",
    "    A_inv = np.linalg.inv(A)\n",
    "    beta_estim = A_inv @ F.transpose() @ mu_vals\n",
    "    n = F_3.shape[0]\n",
    "    m = F_3.shape[1]\n",
    "    sigma = (1/(n-m)) * np.linalg.norm(mu_vals - F @ beta_estim)**2\n",
    "    D = (n/(n-1))*mu_vals.var()\n",
    "    gamma_adeq = D / sigma \n",
    "    return gamma_adeq, beta_estim, sigma"
   ]
  },
  {
   "cell_type": "code",
   "execution_count": null,
   "id": "b3001fa1",
   "metadata": {},
   "outputs": [],
   "source": []
  },
  {
   "cell_type": "code",
   "execution_count": null,
   "id": "c3d4208b",
   "metadata": {},
   "outputs": [],
   "source": [
    "check_adeq(F_4, mu_4_vals)"
   ]
  },
  {
   "cell_type": "code",
   "execution_count": null,
   "id": "f564b57c",
   "metadata": {},
   "outputs": [],
   "source": [
    "4.8759"
   ]
  },
  {
   "cell_type": "code",
   "execution_count": null,
   "id": "29641121",
   "metadata": {},
   "outputs": [],
   "source": [
    "task2_data_2"
   ]
  },
  {
   "cell_type": "code",
   "execution_count": null,
   "id": "8f164034",
   "metadata": {},
   "outputs": [],
   "source": [
    "F_5 = np.vstack([np.ones(8),\n",
    "#                  task2_data_2['X1'].to_numpy(),\n",
    "                 task2_data_2['X2'].to_numpy(),\n",
    "                 task2_data_2['X1'].to_numpy()**2,\n",
    "#                  task2_data_2['X2'].to_numpy()**2,\n",
    "                 (task2_data_2['X2'].to_numpy()*task2_data_2['X1'].to_numpy())\n",
    "#                  np.log(task2_data_2['X2'].to_numpy()*task2_data_2['X1'].to_numpy())\n",
    "                ]).transpose()\n",
    "F_5"
   ]
  },
  {
   "cell_type": "code",
   "execution_count": null,
   "id": "654ecb0f",
   "metadata": {},
   "outputs": [],
   "source": [
    "check_adeq(F_5, mu_4_vals)"
   ]
  },
  {
   "cell_type": "code",
   "execution_count": null,
   "id": "7f4d4c6d",
   "metadata": {},
   "outputs": [],
   "source": [
    "A5 = F_5.transpose() @ F_5\n",
    "A5_inv = np.linalg.inv(A5)\n",
    "for i in A5_inv.T:\n",
    "    for j in i:\n",
    "        print(round(j,5), \" & \", end = ' ')\n",
    "    print('\\\\\\\\')"
   ]
  },
  {
   "cell_type": "code",
   "execution_count": null,
   "id": "75810d5f",
   "metadata": {},
   "outputs": [],
   "source": [
    "6.0942"
   ]
  },
  {
   "cell_type": "code",
   "execution_count": null,
   "id": "5c025035",
   "metadata": {},
   "outputs": [],
   "source": []
  },
  {
   "cell_type": "code",
   "execution_count": null,
   "id": "53df919a",
   "metadata": {},
   "outputs": [],
   "source": [
    "# fig = plt.figure()\n",
    "plt.plot(task2_data.X1**2, task2_data.Y, 'rX', label = 'X1, Y')\n",
    "plt.xlabel('X1')\n",
    "plt.ylabel('X2')\n",
    "plt.grid(True)\n",
    "# plt.legend()\n",
    "plt.savefig('./pictures/task2_dep3.pdf', dpi=300)\n",
    "plt.show()\n",
    "\n",
    "plt.plot(task2_data.X2*task2_data.X1 , task2_data.Y, 'bX', label = 'X2, Y')\n",
    "# plt.show()\n",
    "plt.xlabel('X2')\n",
    "plt.ylabel('Y')\n",
    "plt.grid(True)\n",
    "# plt.legend()\n",
    "plt.savefig('./pictures/task2_dep4.pdf', dpi=300)\n",
    "plt.show()\n",
    "plt.plot(np.sqrt(task2_data.X2), np.sqrt(task2_data.Y), 'kX', label = 'X2, Y')\n",
    "# plt.show()\n",
    "plt.xlabel('X2')\n",
    "plt.ylabel('Y')\n",
    "plt.grid(True)\n",
    "plt.show()"
   ]
  },
  {
   "cell_type": "code",
   "execution_count": null,
   "id": "c755c0f0",
   "metadata": {},
   "outputs": [],
   "source": [
    "fig = plt.figure()\n",
    "ax = plt.axes(projection='3d')\n",
    "ax.scatter3D(task2_data_2['X1'].to_numpy(), task2_data_2['X2'].to_numpy(), task2_data_2['Y'].to_numpy(), c=\"b\")\n",
    "ax.set_xlabel('X1')\n",
    "ax.set_ylabel('X2')\n",
    "ax.set_zlabel('Y')\n",
    "ax.view_init(elev=30, azim = 10)\n",
    "# ax.set_xticks([0, 2, 4, 6, 8, 10])\n",
    "# ax.set_yticks([-10, -5, 0, 5, 10])\n",
    "# ax.set_zticks([-4, -2, 0, 2, 4, 6, 8, 10])\n",
    "plt.show()\n",
    "fig.savefig('./pictures/task2_data_2.png', dpi=300)"
   ]
  },
  {
   "cell_type": "code",
   "execution_count": null,
   "id": "90817ed0",
   "metadata": {},
   "outputs": [],
   "source": [
    "beta_5_estim = check_adeq(F_5, mu_4_vals)[1]\n",
    "sigma_5 = check_adeq(F_5, mu_4_vals)[2]\n",
    "beta_5_estim"
   ]
  },
  {
   "cell_type": "code",
   "execution_count": null,
   "id": "8ca89418",
   "metadata": {},
   "outputs": [],
   "source": [
    "beta_5_estim[1, 0]"
   ]
  },
  {
   "cell_type": "code",
   "execution_count": null,
   "id": "7fea4180",
   "metadata": {},
   "outputs": [],
   "source": [
    "A5_inv[1, 1]"
   ]
  },
  {
   "cell_type": "code",
   "execution_count": null,
   "id": "69cbd831",
   "metadata": {},
   "outputs": [],
   "source": [
    "gamma_rel_5 = beta_5_estim[1, 0] / (np.sqrt(sigma_5 * A5_inv[1, 1]))\n",
    "gamma_rel_5"
   ]
  },
  {
   "cell_type": "code",
   "execution_count": null,
   "id": "876ae121",
   "metadata": {},
   "outputs": [],
   "source": [
    "regres_t5 =  lambda x1, x2: beta_5_estim[0, 0] + beta_5_estim[1, 0] * x2 + beta_5_estim[2, 0] * x1**2 + beta_5_estim[3, 0] * x1*x2"
   ]
  },
  {
   "cell_type": "code",
   "execution_count": null,
   "id": "274b6a4d",
   "metadata": {},
   "outputs": [],
   "source": [
    "regres_t5(5,4)"
   ]
  },
  {
   "cell_type": "code",
   "execution_count": null,
   "id": "b0544f5e",
   "metadata": {},
   "outputs": [],
   "source": [
    "x1_5 = 1\n",
    "x2_5 = 1\n",
    "x_vec_5 = np.array([[1],[x1_5],[x2_5**2],[x1_5*x2_5]])\n",
    "t_5 = 2.776\n",
    "left_mean_5 = regres_t5(x1_5, x2_5) - t_5*np.sqrt(sigma_5 * (x_vec_5.transpose() @ A5_inv @ x_vec_5)[0,0])\n",
    "right_mean_5 = regres_t5(x1_5, x2_5) + t_5*np.sqrt(sigma_5 * (x_vec_5.transpose() @ A5_inv @ x_vec_5)[0,0])\n",
    "(round(left_mean_5,5), round(right_mean_5,5))"
   ]
  },
  {
   "cell_type": "code",
   "execution_count": null,
   "id": "4766d79b",
   "metadata": {},
   "outputs": [],
   "source": [
    "left_val_5 = regres_t5(x1_5, x2_5) - t_5*np.sqrt(sigma_5 * (1 + x_vec_5.transpose() @ A5_inv @ x_vec_5)[0,0])\n",
    "right_val_5 = regres_t5(x1_5, x2_5) + t_5*np.sqrt(sigma_5 * (1 + x_vec_5.transpose() @ A5_inv @ x_vec_5)[0,0])\n",
    "(round(left_val_5, 5), round(right_val_5,5))"
   ]
  },
  {
   "cell_type": "code",
   "execution_count": null,
   "id": "be0e84fc",
   "metadata": {},
   "outputs": [],
   "source": [
    "task2_data = pd.DataFrame({'X1': [2, 2, 2, 7, 7, 3, 3, 4, 4, 3, 8,8,1,1,6],\n",
    "                           'X2': [1,1,1,7,7,3,3,2,2,4,9,9,1,1,3],\n",
    "                           'Y': [600,800,700,1300,1100,700,650,600,750,1000,800,1200,700,400,900]})\n",
    "task2_data"
   ]
  },
  {
   "cell_type": "code",
   "execution_count": null,
   "id": "39d61c96",
   "metadata": {},
   "outputs": [],
   "source": []
  }
 ],
 "metadata": {
  "kernelspec": {
   "display_name": "Python 3 (ipykernel)",
   "language": "python",
   "name": "python3"
  },
  "language_info": {
   "codemirror_mode": {
    "name": "ipython",
    "version": 3
   },
   "file_extension": ".py",
   "mimetype": "text/x-python",
   "name": "python",
   "nbconvert_exporter": "python",
   "pygments_lexer": "ipython3",
   "version": "3.10.7"
  }
 },
 "nbformat": 4,
 "nbformat_minor": 5
}
