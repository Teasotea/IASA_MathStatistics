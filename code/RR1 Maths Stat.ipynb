{
 "cells": [
  {
   "cell_type": "code",
   "execution_count": 143,
   "id": "4bfc768a",
   "metadata": {},
   "outputs": [],
   "source": [
    "from scipy.stats import geom\n",
    "import numpy as np\n",
    "import matplotlib.pyplot as plt\n",
    "from matplotlib.pyplot import figure\n",
    "import math\n"
   ]
  },
  {
   "cell_type": "code",
   "execution_count": 144,
   "id": "8994179f",
   "metadata": {},
   "outputs": [],
   "source": [
    "def print_sample(sample):\n",
    "    for i, j in enumerate(sample):\n",
    "        if i%10 == 0:\n",
    "            print()\n",
    "        print(j, end = ' ')\n",
    "    print()"
   ]
  },
  {
   "cell_type": "code",
   "execution_count": 145,
   "id": "1ac294e1",
   "metadata": {},
   "outputs": [
    {
     "name": "stdout",
     "output_type": "stream",
     "text": [
      "\n",
      "4.58 3.18 2.83 -0.17 5.34 3.75 1.86 2.9 -0.49 11.05 \n",
      "-0.58 19.24 -0.55 5.53 4.42 -0.52 7.71 3.0 2.35 3.01 \n",
      "1.12 11.5 1.67 -0.21 1.1 -0.16 1.78 0.79 2.88 2.96 \n",
      "1.42 1.51 -0.28 1.76 5.58 13.5 0.56 8.44 4.13 -0.07 \n",
      "0.86 6.89 7.18 1.08 1.31 1.81 0.91 0.62 1.84 1.6 \n",
      "0.49 1.13 1.43 9.33 8.03 0.59 1.17 4.29 3.31 21.05 \n",
      "8.85 8.18 10.03 3.91 6.72 0.46 0.76 15.48 3.0 -0.65 \n",
      "2.32 0.39 2.76 4.82 -0.38 14.09 4.97 1.04 2.36 8.54 \n",
      "3.24 11.34 5.23 3.23 -0.22 3.39 14.02 0.44 0.36 0.08 \n",
      "3.47 -0.18 0.62 -0.35 0.95 7.79 0.14 3.9 -0.63 5.47 \n"
     ]
    }
   ],
   "source": [
    "f = open(\"sample.txt\", \"r\")\n",
    "data = [float(x) for x in f.read().split()]\n",
    "print_sample(data)\n"
   ]
  },
  {
   "cell_type": "code",
   "execution_count": 146,
   "id": "7d8e541a",
   "metadata": {},
   "outputs": [
    {
     "data": {
      "text/plain": [
       "373.2800000000001"
      ]
     },
     "execution_count": 146,
     "metadata": {},
     "output_type": "execute_result"
    }
   ],
   "source": [
    "sum(data)"
   ]
  },
  {
   "cell_type": "markdown",
   "id": "f13a5f00",
   "metadata": {},
   "source": [
    "## Згенеруємо Latex-код для відсортованої вибірки"
   ]
  },
  {
   "cell_type": "code",
   "execution_count": 147,
   "id": "280ab546",
   "metadata": {},
   "outputs": [
    {
     "name": "stdout",
     "output_type": "stream",
     "text": [
      "\n",
      "\\ttfamily -0.65 & -0.63 & -0.58 & -0.55 & -0.52 & -0.49 & -0.38 & -0.35 & -0.28 & -0.22 & \n",
      "\\ttfamily -0.21 & -0.18 & -0.17 & -0.16 & -0.07 & 0.08 & 0.14 & 0.36 & 0.39 & 0.44 & \\\\\n",
      "\\ttfamily 0.46 & 0.49 & 0.56 & 0.59 & 0.62 & 0.62 & 0.76 & 0.79 & 0.86 & 0.91 & \\\\\n",
      "\\ttfamily 0.95 & 1.04 & 1.08 & 1.1 & 1.12 & 1.13 & 1.17 & 1.31 & 1.42 & 1.43 & \\\\\n",
      "\\ttfamily 1.51 & 1.6 & 1.67 & 1.76 & 1.78 & 1.81 & 1.84 & 1.86 & 2.32 & 2.35 & \\\\\n",
      "\\ttfamily 2.36 & 2.76 & 2.83 & 2.88 & 2.9 & 2.96 & 3.0 & 3.0 & 3.01 & 3.18 & \\\\\n",
      "\\ttfamily 3.23 & 3.24 & 3.31 & 3.39 & 3.47 & 3.75 & 3.9 & 3.91 & 4.13 & 4.29 & \\\\\n",
      "\\ttfamily 4.42 & 4.58 & 4.82 & 4.97 & 5.23 & 5.34 & 5.47 & 5.53 & 5.58 & 6.72 & \\\\\n",
      "\\ttfamily 6.89 & 7.18 & 7.71 & 7.79 & 8.03 & 8.18 & 8.44 & 8.54 & 8.85 & 9.33 & \\\\\n",
      "\\ttfamily 10.03 & 11.05 & 11.34 & 11.5 & 13.5 & 14.02 & 14.09 & 15.48 & 19.24 & 21.05 "
     ]
    }
   ],
   "source": [
    "sorted_data = sorted(data)\n",
    "for i, j in enumerate(sorted_data):\n",
    "    if i%10 == 0:\n",
    "        if j >= 0:\n",
    "            print(\"\\\\\\\\\")\n",
    "        else:\n",
    "            print()\n",
    "        if j!= 0:\n",
    "            print(\"\\\\ttfamily\", end = ' ')\n",
    "    \n",
    "    print(j, end = ' ')\n",
    "    if i!=len(sorted_data)-1:\n",
    "        print('&', end = ' ')"
   ]
  },
  {
   "cell_type": "markdown",
   "id": "a81108cd",
   "metadata": {},
   "source": [
    "## Підрахуємо к-ть унікальних значень вибірки"
   ]
  },
  {
   "cell_type": "code",
   "execution_count": 148,
   "id": "4693a4d5",
   "metadata": {},
   "outputs": [
    {
     "name": "stdout",
     "output_type": "stream",
     "text": [
      "\n",
      "-0.65 -0.63 -0.58 -0.55 -0.52 -0.49 -0.38 -0.35 -0.28 -0.22 \n",
      "-0.21 -0.18 -0.17 -0.16 -0.07 0.08 0.14 0.36 0.39 0.44 \n",
      "0.46 0.49 0.56 0.59 0.62 0.76 0.79 0.86 0.91 0.95 \n",
      "1.04 1.08 1.1 1.12 1.13 1.17 1.31 1.42 1.43 1.51 \n",
      "1.6 1.67 1.76 1.78 1.81 1.84 1.86 2.32 2.35 2.36 \n",
      "2.76 2.83 2.88 2.9 2.96 3.0 3.01 3.18 3.23 3.24 \n",
      "3.31 3.39 3.47 3.75 3.9 3.91 4.13 4.29 4.42 4.58 \n",
      "4.82 4.97 5.23 5.34 5.47 5.53 5.58 6.72 6.89 7.18 \n",
      "7.71 7.79 8.03 8.18 8.44 8.54 8.85 9.33 10.03 11.05 \n",
      "11.34 11.5 13.5 14.02 14.09 15.48 19.24 21.05 \n",
      "\n",
      "Length of sample:  100\n",
      "Unique values:  98\n"
     ]
    }
   ],
   "source": [
    "print_sample(np.unique(data))\n",
    "print()\n",
    "print('Length of sample: ', len(data))\n",
    "print('Unique values: ', len(np.unique(data)))"
   ]
  },
  {
   "cell_type": "code",
   "execution_count": 149,
   "id": "43d61af8",
   "metadata": {},
   "outputs": [
    {
     "name": "stdout",
     "output_type": "stream",
     "text": [
      "[-0.65, -0.63, -0.58, -0.55, -0.52, -0.49, -0.38, -0.35, -0.28, -0.22, -0.21, -0.18, -0.17, -0.16, -0.07, 0.08, 0.14, 0.36, 0.39, 0.44, 0.46, 0.49, 0.56, 0.59, 0.62, 0.62, 0.76, 0.79, 0.86, 0.91, 0.95, 1.04, 1.08, 1.1, 1.12, 1.13, 1.17, 1.31, 1.42, 1.43, 1.51, 1.6, 1.67, 1.76, 1.78, 1.81, 1.84, 1.86, 2.32, 2.35, 2.36, 2.76, 2.83, 2.88, 2.9, 2.96, 3.0, 3.0, 3.01, 3.18, 3.23, 3.24, 3.31, 3.39, 3.47, 3.75, 3.9, 3.91, 4.13, 4.29, 4.42, 4.58, 4.82, 4.97, 5.23, 5.34, 5.47, 5.53, 5.58, 6.72, 6.89, 7.18, 7.71, 7.79, 8.03, 8.18, 8.44, 8.54, 8.85, 9.33, 10.03, 11.05, 11.34, 11.5, 13.5, 14.02, 14.09, 15.48, 19.24, 21.05]\n"
     ]
    }
   ],
   "source": [
    "print(sorted_data)"
   ]
  },
  {
   "cell_type": "code",
   "execution_count": 150,
   "id": "d9231899",
   "metadata": {},
   "outputs": [
    {
     "data": {
      "text/plain": [
       "3.7328"
      ]
     },
     "execution_count": 150,
     "metadata": {},
     "output_type": "execute_result"
    }
   ],
   "source": [
    "Exi = sum(sorted_data)/100\n",
    "Exi"
   ]
  },
  {
   "cell_type": "code",
   "execution_count": 151,
   "id": "9f4e400c",
   "metadata": {
    "scrolled": true
   },
   "outputs": [
    {
     "data": {
      "text/plain": [
       "19.57069309"
      ]
     },
     "execution_count": 151,
     "metadata": {},
     "output_type": "execute_result"
    }
   ],
   "source": [
    "Dxi_unbiased =  round(sum([(i - Exi)**2 for i in sorted_data])/99, 8)\n",
    "Dxi_unbiased"
   ]
  },
  {
   "cell_type": "code",
   "execution_count": 152,
   "id": "3f2eddf4",
   "metadata": {},
   "outputs": [
    {
     "name": "stdout",
     "output_type": "stream",
     "text": [
      "Dxi =  19.37498616\n"
     ]
    }
   ],
   "source": [
    "Dxi =  round(sum([(i - Exi)**2 for i in sorted_data])/100, 10)\n",
    "print('Dxi = ', Dxi)"
   ]
  },
  {
   "cell_type": "code",
   "execution_count": 153,
   "id": "95f4c036",
   "metadata": {},
   "outputs": [
    {
     "data": {
      "text/plain": [
       "1.68780445"
      ]
     },
     "execution_count": 153,
     "metadata": {},
     "output_type": "execute_result"
    }
   ],
   "source": [
    "Asxi = round(sum([(i - Exi)**3 for i in sorted_data]) /(100 * (Dxi)**(3/2)),8)\n",
    "Asxi"
   ]
  },
  {
   "cell_type": "markdown",
   "id": "409afd42",
   "metadata": {},
   "source": [
    "## Згенеруємо Latex-код для позначення інтервалів"
   ]
  },
  {
   "cell_type": "code",
   "execution_count": 154,
   "id": "e0bac477",
   "metadata": {},
   "outputs": [],
   "source": [
    "def find_intervals(start,stop, step):\n",
    "    float_range_array = np.arange(start, stop, step)\n",
    "    range_list =[round(i, 2) for i in list(float_range_array)]\n",
    "    \n",
    "    for j, i in enumerate(range_list):\n",
    "        print('\\\\Delta_{',j+1, '} &=[',round(i, 2), ', ',round(i+step, 2),')', end = ' ')\n",
    "        if j%2 == 0 and j!=len(range_list)-1:\n",
    "            print(' & ', end = ' ')\n",
    "        elif j%2 == 1:\n",
    "            print('\\\\\\\\')\n",
    "    range_list.append(stop)\n",
    "    return range_list\n",
    "            "
   ]
  },
  {
   "cell_type": "code",
   "execution_count": 155,
   "id": "ab667693",
   "metadata": {
    "scrolled": true
   },
   "outputs": [
    {
     "name": "stdout",
     "output_type": "stream",
     "text": [
      "\\Delta_{ 1 } &=[ -0.65 ,  1.52 )  &  \\Delta_{ 2 } &=[ 1.52 ,  3.69 ) \\\\\n",
      "\\Delta_{ 3 } &=[ 3.69 ,  5.86 )  &  \\Delta_{ 4 } &=[ 5.86 ,  8.03 ) \\\\\n",
      "\\Delta_{ 5 } &=[ 8.03 ,  10.2 )  &  \\Delta_{ 6 } &=[ 10.2 ,  12.37 ) \\\\\n",
      "\\Delta_{ 7 } &=[ 12.37 ,  14.54 )  &  \\Delta_{ 8 } &=[ 14.54 ,  16.71 ) \\\\\n",
      "\\Delta_{ 9 } &=[ 16.71 ,  18.88 )  &  \\Delta_{ 10 } &=[ 18.88 ,  21.05 ) \\\\\n"
     ]
    }
   ],
   "source": [
    "pre_intervals = find_intervals(-0.65, 21.05, 2.17)"
   ]
  },
  {
   "cell_type": "markdown",
   "id": "5967fc4b",
   "metadata": {},
   "source": [
    "## Знайдемо частоти для побудови варіаційного ряду"
   ]
  },
  {
   "cell_type": "code",
   "execution_count": 156,
   "id": "88d4aa1f",
   "metadata": {},
   "outputs": [
    {
     "name": "stdout",
     "output_type": "stream",
     "text": [
      "{-0.65: 1, -0.63: 1, -0.58: 1, -0.55: 1, -0.52: 1, -0.49: 1, -0.38: 1, -0.35: 1, -0.28: 1, -0.22: 1, -0.21: 1, -0.18: 1, -0.17: 1, -0.16: 1, -0.07: 1, 0.08: 1, 0.14: 1, 0.36: 1, 0.39: 1, 0.44: 1, 0.46: 1, 0.49: 1, 0.56: 1, 0.59: 1, 0.62: 2, 0.76: 1, 0.79: 1, 0.86: 1, 0.91: 1, 0.95: 1, 1.04: 1, 1.08: 1, 1.1: 1, 1.12: 1, 1.13: 1, 1.17: 1, 1.31: 1, 1.42: 1, 1.43: 1, 1.51: 1, 1.6: 1, 1.67: 1, 1.76: 1, 1.78: 1, 1.81: 1, 1.84: 1, 1.86: 1, 2.32: 1, 2.35: 1, 2.36: 1, 2.76: 1, 2.83: 1, 2.88: 1, 2.9: 1, 2.96: 1, 3.0: 2, 3.01: 1, 3.18: 1, 3.23: 1, 3.24: 1, 3.31: 1, 3.39: 1, 3.47: 1, 3.75: 1, 3.9: 1, 3.91: 1, 4.13: 1, 4.29: 1, 4.42: 1, 4.58: 1, 4.82: 1, 4.97: 1, 5.23: 1, 5.34: 1, 5.47: 1, 5.53: 1, 5.58: 1, 6.72: 1, 6.89: 1, 7.18: 1, 7.71: 1, 7.79: 1, 8.03: 1, 8.18: 1, 8.44: 1, 8.54: 1, 8.85: 1, 9.33: 1, 10.03: 1, 11.05: 1, 11.34: 1, 11.5: 1, 13.5: 1, 14.02: 1, 14.09: 1, 15.48: 1, 19.24: 1, 21.05: 1}\n"
     ]
    }
   ],
   "source": [
    "d = dict()\n",
    "for i in sorted_data:\n",
    "    if not i in d.keys():\n",
    "        d.update({i : 1})\n",
    "    else:\n",
    "        d[i] += 1\n",
    "print(d)"
   ]
  },
  {
   "cell_type": "code",
   "execution_count": 157,
   "id": "2c8872df",
   "metadata": {},
   "outputs": [
    {
     "data": {
      "text/plain": [
       "[-0.65, 1.52, 3.69, 5.86, 8.03, 10.2, 12.37, 14.54, 16.71, 18.88, 21.05]"
      ]
     },
     "execution_count": 157,
     "metadata": {},
     "output_type": "execute_result"
    }
   ],
   "source": [
    "pre_intervals"
   ]
  },
  {
   "cell_type": "code",
   "execution_count": 158,
   "id": "d7789ff2",
   "metadata": {},
   "outputs": [],
   "source": [
    "def count_freq(intervals, sample_dict):\n",
    "    intervals = list(zip(intervals[:-1],intervals[1:]))\n",
    "    freq_dict = dict.fromkeys(intervals, 0)\n",
    "    for i in intervals:\n",
    "        for j in d.keys():\n",
    "            if j>= i[0] and j<i[1]:\n",
    "                freq_dict[i] += d[j]\n",
    "            elif j>= i[0] and i[1]==intervals[-1][1]:\n",
    "                freq_dict[i] += d[j]\n",
    "    return freq_dict, intervals\n",
    "#     for i in sample_dict.values()"
   ]
  },
  {
   "cell_type": "code",
   "execution_count": 159,
   "id": "8055fed0",
   "metadata": {},
   "outputs": [
    {
     "data": {
      "text/plain": [
       "{(-0.65, 1.52): 41,\n",
       " (1.52, 3.69): 24,\n",
       " (3.69, 5.86): 14,\n",
       " (5.86, 8.03): 5,\n",
       " (8.03, 10.2): 7,\n",
       " (10.2, 12.37): 3,\n",
       " (12.37, 14.54): 3,\n",
       " (14.54, 16.71): 1,\n",
       " (16.71, 18.88): 0,\n",
       " (18.88, 21.05): 2}"
      ]
     },
     "execution_count": 159,
     "metadata": {},
     "output_type": "execute_result"
    }
   ],
   "source": [
    "freq_dict, intervals = count_freq(pre_intervals, d)\n",
    "freq_dict"
   ]
  },
  {
   "cell_type": "code",
   "execution_count": 160,
   "id": "ded30d28",
   "metadata": {},
   "outputs": [
    {
     "data": {
      "text/plain": [
       "100"
      ]
     },
     "execution_count": 160,
     "metadata": {},
     "output_type": "execute_result"
    }
   ],
   "source": [
    "sum(list(freq_dict.values()))"
   ]
  },
  {
   "cell_type": "code",
   "execution_count": 161,
   "id": "7b782352",
   "metadata": {},
   "outputs": [
    {
     "data": {
      "text/plain": [
       "[(-0.65, 1.52),\n",
       " (1.52, 3.69),\n",
       " (3.69, 5.86),\n",
       " (5.86, 8.03),\n",
       " (8.03, 10.2),\n",
       " (10.2, 12.37),\n",
       " (12.37, 14.54),\n",
       " (14.54, 16.71),\n",
       " (16.71, 18.88),\n",
       " (18.88, 21.05)]"
      ]
     },
     "execution_count": 161,
     "metadata": {},
     "output_type": "execute_result"
    }
   ],
   "source": [
    "intervals"
   ]
  },
  {
   "cell_type": "markdown",
   "id": "a7c453b2",
   "metadata": {},
   "source": [
    "## Знайдемо накопичені частості"
   ]
  },
  {
   "cell_type": "code",
   "execution_count": 162,
   "id": "440b8d13",
   "metadata": {},
   "outputs": [
    {
     "data": {
      "text/plain": [
       "[41, 24, 14, 5, 7, 3, 3, 1, 0, 2]"
      ]
     },
     "execution_count": 162,
     "metadata": {},
     "output_type": "execute_result"
    }
   ],
   "source": [
    "list(freq_dict.values())"
   ]
  },
  {
   "cell_type": "code",
   "execution_count": 163,
   "id": "bfd09b8b",
   "metadata": {},
   "outputs": [
    {
     "data": {
      "text/plain": [
       "[0.41, 0.65, 0.79, 0.84, 0.91, 0.94, 0.97, 0.98, 0.98, 1.0]"
      ]
     },
     "execution_count": 163,
     "metadata": {},
     "output_type": "execute_result"
    }
   ],
   "source": [
    "[(j + sum(list(freq_dict.values())[:i]))/100 for i,j in enumerate(list(freq_dict.values()))]"
   ]
  },
  {
   "cell_type": "code",
   "execution_count": 164,
   "id": "308188d1",
   "metadata": {},
   "outputs": [],
   "source": [
    "def compute_ivr(freq_dict):\n",
    "    accum_freq = [(j + sum(list(freq_dict.values())[:i]))/100 for i,j in enumerate(list(freq_dict.values()))]\n",
    "    k=0\n",
    "    for i,j in zip(freq_dict.keys(), freq_dict.values()):\n",
    "        freq_dict[i] = [j, j/100, accum_freq[k]]\n",
    "        k=k+1\n",
    "    return freq_dict"
   ]
  },
  {
   "cell_type": "code",
   "execution_count": 165,
   "id": "230baa80",
   "metadata": {},
   "outputs": [
    {
     "data": {
      "text/plain": [
       "{(-0.65, 1.52): [41, 0.41, 0.41],\n",
       " (1.52, 3.69): [24, 0.24, 0.65],\n",
       " (3.69, 5.86): [14, 0.14, 0.79],\n",
       " (5.86, 8.03): [5, 0.05, 0.84],\n",
       " (8.03, 10.2): [7, 0.07, 0.91],\n",
       " (10.2, 12.37): [3, 0.03, 0.94],\n",
       " (12.37, 14.54): [3, 0.03, 0.97],\n",
       " (14.54, 16.71): [1, 0.01, 0.98],\n",
       " (16.71, 18.88): [0, 0.0, 0.98],\n",
       " (18.88, 21.05): [2, 0.02, 1.0]}"
      ]
     },
     "execution_count": 165,
     "metadata": {},
     "output_type": "execute_result"
    }
   ],
   "source": [
    "compute_ivr(freq_dict)"
   ]
  },
  {
   "cell_type": "markdown",
   "id": "b8b6c9be",
   "metadata": {},
   "source": [
    "## Згенеруємо Latex-код для побудови ІВР"
   ]
  },
  {
   "cell_type": "code",
   "execution_count": 166,
   "id": "6531cce2",
   "metadata": {},
   "outputs": [],
   "source": [
    "def print_ivr(freq_dict):\n",
    "    name = ['n_{i}','\\omega_{i}', '\\omega_{i}^{H}']\n",
    "    for j in range(3):\n",
    "        print('\\hline', name[j], end=' ')\n",
    "        for i in freq_dict.values():\n",
    "            print(' &',i[j], end = '')\n",
    "        print('\\\\\\\\')\n",
    "    print('\\hline')\n",
    "    "
   ]
  },
  {
   "cell_type": "code",
   "execution_count": 167,
   "id": "eca88050",
   "metadata": {
    "scrolled": true
   },
   "outputs": [
    {
     "name": "stdout",
     "output_type": "stream",
     "text": [
      "\\hline n_{i}  & 41 & 24 & 14 & 5 & 7 & 3 & 3 & 1 & 0 & 2\\\\\n",
      "\\hline \\omega_{i}  & 0.41 & 0.24 & 0.14 & 0.05 & 0.07 & 0.03 & 0.03 & 0.01 & 0.0 & 0.02\\\\\n",
      "\\hline \\omega_{i}^{H}  & 0.41 & 0.65 & 0.79 & 0.84 & 0.91 & 0.94 & 0.97 & 0.98 & 0.98 & 1.0\\\\\n",
      "\\hline\n"
     ]
    }
   ],
   "source": [
    "print_ivr(freq_dict)"
   ]
  },
  {
   "cell_type": "markdown",
   "id": "21eca4ca",
   "metadata": {},
   "source": [
    "## Гістограма"
   ]
  },
  {
   "cell_type": "code",
   "execution_count": 168,
   "id": "82a93391",
   "metadata": {},
   "outputs": [
    {
     "data": {
      "text/plain": [
       "[0.41, 0.24, 0.14, 0.05, 0.07, 0.03, 0.03, 0.01, 0.0, 0.02]"
      ]
     },
     "execution_count": 168,
     "metadata": {},
     "output_type": "execute_result"
    }
   ],
   "source": [
    "fr = [i[1] for i in list(freq_dict.values())]\n",
    "fr"
   ]
  },
  {
   "cell_type": "code",
   "execution_count": 169,
   "id": "4fac14f9",
   "metadata": {},
   "outputs": [
    {
     "name": "stdout",
     "output_type": "stream",
     "text": [
      "[0.1889400921658986, 0.11059907834101382, 0.06451612903225808, 0.02304147465437788, 0.03225806451612904, 0.013824884792626727, 0.013824884792626727, 0.004608294930875576, 0.0, 0.009216589861751152]\n"
     ]
    }
   ],
   "source": [
    "h = [i/2.17 for i in fr]\n",
    "print(h)"
   ]
  },
  {
   "cell_type": "code",
   "execution_count": 170,
   "id": "f396fa53",
   "metadata": {
    "scrolled": true
   },
   "outputs": [
    {
     "name": "stdout",
     "output_type": "stream",
     "text": [
      "\\begin{aligned}\n",
      "& h_{ 1 } = \\frac{ 0.41 }{2.17}= 0.1889400921658986\\\\\n",
      "& h_{ 2 } = \\frac{ 0.24 }{2.17}= 0.11059907834101382\\\\\n",
      "& h_{ 3 } = \\frac{ 0.14 }{2.17}= 0.06451612903225808\\\\\n",
      "& h_{ 4 } = \\frac{ 0.05 }{2.17}= 0.02304147465437788\\\\\n",
      "& h_{ 5 } = \\frac{ 0.07 }{2.17}= 0.03225806451612904\\\\\n",
      "& h_{ 6 } = \\frac{ 0.03 }{2.17}= 0.013824884792626727\\\\\n",
      "& h_{ 7 } = \\frac{ 0.03 }{2.17}= 0.013824884792626727\\\\\n",
      "& h_{ 8 } = \\frac{ 0.01 }{2.17}= 0.004608294930875576\\\\\n",
      "& h_{ 9 } = \\frac{ 0.0 }{2.17}= 0.0\\\\\n",
      "& h_{ 10 } = \\frac{ 0.02 }{2.17}= 0.009216589861751152\n",
      "\\end{aligned}\n"
     ]
    }
   ],
   "source": [
    "print('\\\\begin{aligned}')\n",
    "for i,j in enumerate(h):\n",
    "    print('& h_{',i+1,'} = \\\\frac{',fr[i],'}{2.17}=',j,end='')\n",
    "    if i <len(h)-1:\n",
    "        print('\\\\\\\\')\n",
    "    else: print()\n",
    "print('\\end{aligned}')"
   ]
  },
  {
   "cell_type": "code",
   "execution_count": 171,
   "id": "4b4f3405",
   "metadata": {},
   "outputs": [
    {
     "data": {
      "text/plain": [
       "1.0"
      ]
     },
     "execution_count": 171,
     "metadata": {},
     "output_type": "execute_result"
    }
   ],
   "source": [
    "# сумарна площа прямокутників повинна дорівнювати 1\n",
    "sum(h) * 2.17 "
   ]
  },
  {
   "cell_type": "code",
   "execution_count": 172,
   "id": "b9909535",
   "metadata": {},
   "outputs": [
    {
     "name": "stdout",
     "output_type": "stream",
     "text": [
      "(0.1889400921658986 +0.11059907834101382 +0.06451612903225808 +0.02304147465437788 +0.03225806451612904 +0.013824884792626727 +0.013824884792626727 +0.004608294930875576 +0.0 +0.009216589861751152 ) * d_{i}= 0.4608294930875576 * 2.17= 1.0\n"
     ]
    }
   ],
   "source": [
    "print('(', end='')\n",
    "for i in h:\n",
    "    if i!= h[-1]:\n",
    "        print (i, \"+\", end='')\n",
    "    else: print(h[-1],') * d_{i}=', sum(h), '* 2.17=', sum(h) * 2.17)"
   ]
  },
  {
   "cell_type": "code",
   "execution_count": 173,
   "id": "334b6676",
   "metadata": {},
   "outputs": [
    {
     "data": {
      "text/plain": [
       "(100,)"
      ]
     },
     "execution_count": 173,
     "metadata": {},
     "output_type": "execute_result"
    }
   ],
   "source": [
    "np.array(sorted_data).shape"
   ]
  },
  {
   "cell_type": "code",
   "execution_count": 174,
   "id": "ba8a8ff6",
   "metadata": {},
   "outputs": [
    {
     "data": {
      "text/plain": [
       "(10,)"
      ]
     },
     "execution_count": 174,
     "metadata": {},
     "output_type": "execute_result"
    }
   ],
   "source": [
    "np.array(h).shape"
   ]
  },
  {
   "cell_type": "code",
   "execution_count": 175,
   "id": "dac4a0ed",
   "metadata": {},
   "outputs": [
    {
     "name": "stdout",
     "output_type": "stream",
     "text": [
      "[41 24 14  5  7  3  3  1  0  2] [-0.65  1.52  3.69  5.86  8.03 10.2  12.37 14.54 16.71 18.88 21.05]\n"
     ]
    }
   ],
   "source": [
    "counts, bins = np.histogram(sorted_data)\n",
    "print(counts, bins)"
   ]
  },
  {
   "cell_type": "code",
   "execution_count": 176,
   "id": "4615b4ad",
   "metadata": {},
   "outputs": [],
   "source": [
    "def pdf_exp(lamb, x):\n",
    "    if x>=0:\n",
    "        return lamb * np.exp(-lamb*x)\n",
    "    else: return 0"
   ]
  },
  {
   "cell_type": "code",
   "execution_count": 177,
   "id": "65040a63",
   "metadata": {},
   "outputs": [
    {
     "data": {
      "text/plain": [
       "[(-0.65, 1.52),\n",
       " (1.52, 3.69),\n",
       " (3.69, 5.86),\n",
       " (5.86, 8.03),\n",
       " (8.03, 10.2),\n",
       " (10.2, 12.37),\n",
       " (12.37, 14.54),\n",
       " (14.54, 16.71),\n",
       " (16.71, 18.88),\n",
       " (18.88, 21.05)]"
      ]
     },
     "execution_count": 177,
     "metadata": {},
     "output_type": "execute_result"
    }
   ],
   "source": [
    "intervals"
   ]
  },
  {
   "cell_type": "code",
   "execution_count": 188,
   "id": "6ba3237a",
   "metadata": {
    "scrolled": true
   },
   "outputs": [
    {
     "data": {
      "image/png": "[encoded data removed]",
      "text/plain": [
       "<Figure size 800x640 with 1 Axes>"
      ]
     },
     "metadata": {},
     "output_type": "display_data"
    }
   ],
   "source": [
    "figure(num=None, figsize=(10, 8), dpi=80, facecolor='w', edgecolor='k')\n",
    "# plt.rcParams[\"figure.figsize\"] = (8,5.5)\n",
    "plt.style.use('ggplot')\n",
    "plt.hist(bins[:-1], bins, weights=h, alpha=0.9, edgecolor='black', linewidth=2) # label='Value'\n",
    "plt.title('Крива розподілу гіпотетичного закону')\n",
    "plt.yticks(np.arange(0, 0.2, 0.02))\n",
    "plt.xticks(pre_intervals)\n",
    "#plt.plot(bins[:-1]+2.17/2, h, color='blue')\n",
    "lamb = -0.65\n",
    "a = 4.4271\n",
    "np.arange(0, 22, 0.5)\n",
    "def shifted_exp_pdf(lamb, a, x):\n",
    "    return (1/lamb )* np.exp((-1/lamb)*(x-a))\n",
    "plt.plot(np.array(sorted_data), shifted_exp_pdf(4.4271,-0.65, np.array(sorted_data)), 'b', linewidth=0.5)\n",
    "plt.savefig('hyp_exp.png', dpi = 300)\n",
    "plt.show()"
   ]
  },
  {
   "cell_type": "code",
   "execution_count": 179,
   "id": "f9818744",
   "metadata": {},
   "outputs": [
    {
     "data": {
      "text/plain": [
       "array([0.2258815 , 0.20175817, 0.18021112, 0.16096521, 0.14377471,\n",
       "       0.12842008, 0.11470528, 0.10245516, 0.09151332, 0.08174002,\n",
       "       0.07301048, 0.06521322, 0.05824869, 0.05202793, 0.04647154,\n",
       "       0.04150854, 0.03707558, 0.03311604, 0.02957937, 0.0264204 ,\n",
       "       0.02359879, 0.02107853, 0.01882741, 0.01681671, 0.01502075,\n",
       "       0.01341659, 0.01198374, 0.01070392, 0.00956078, 0.00853972,\n",
       "       0.00762771, 0.0068131 , 0.00608549, 0.00543558, 0.00485508,\n",
       "       0.00433657, 0.00387344, 0.00345977, 0.00309028, 0.00276025,\n",
       "       0.00246547, 0.00220216, 0.00196698, 0.00175691, 0.00156928,\n",
       "       0.00140169])"
      ]
     },
     "execution_count": 179,
     "metadata": {},
     "output_type": "execute_result"
    }
   ],
   "source": [
    "def shifted_exp(lamb, a, x):\n",
    "    return (1/lamb )* np.exp((-1/lamb)*(x-a))\n",
    "x = np.arange(-0.65, 22, 0.5)\n",
    "shifted_exp(4.4271,-0.65, x)"
   ]
  },
  {
   "cell_type": "code",
   "execution_count": 180,
   "id": "f7c4f6f8",
   "metadata": {},
   "outputs": [
    {
     "data": {
      "text/plain": [
       "[0.41, 0.65, 0.79, 0.84, 0.91, 0.94, 0.97, 0.98, 0.98, 1.0]"
      ]
     },
     "execution_count": 180,
     "metadata": {},
     "output_type": "execute_result"
    }
   ],
   "source": [
    "acc_freq = [i[2] for i in list(freq_dict.values())]\n",
    "acc_freq"
   ]
  },
  {
   "cell_type": "code",
   "execution_count": 181,
   "id": "4ee92dc7",
   "metadata": {},
   "outputs": [],
   "source": [
    "def empiric_distr(x, intervals, acc_freq):\n",
    "    if x <= -0.65:\n",
    "        return 0\n",
    "    elif x> 18.88:\n",
    "        return 1\n",
    "    else:\n",
    "        for (i, j), z in zip(intervals, acc_freq):\n",
    "            if i < x <= j: return z\n",
    "        "
   ]
  },
  {
   "cell_type": "code",
   "execution_count": 182,
   "id": "1a296b9a",
   "metadata": {},
   "outputs": [
    {
     "data": {
      "text/plain": [
       "0"
      ]
     },
     "execution_count": 182,
     "metadata": {},
     "output_type": "execute_result"
    }
   ],
   "source": [
    "empiric_distr(-2.5, intervals, acc_freq)"
   ]
  },
  {
   "cell_type": "code",
   "execution_count": 183,
   "id": "f61dadc1",
   "metadata": {},
   "outputs": [
    {
     "data": {
      "text/plain": [
       "[-0.65, 1.52, 3.69, 5.86, 8.03, 10.2, 12.37, 14.54, 16.71, 18.88, 21.05]"
      ]
     },
     "execution_count": 183,
     "metadata": {},
     "output_type": "execute_result"
    }
   ],
   "source": [
    "pre_intervals"
   ]
  },
  {
   "cell_type": "code",
   "execution_count": 204,
   "id": "24a06e55",
   "metadata": {},
   "outputs": [
    {
     "data": {
      "image/png": "[encoded data removed]",
      "text/plain": [
       "<Figure size 800x600 with 1 Axes>"
      ]
     },
     "metadata": {},
     "output_type": "display_data"
    }
   ],
   "source": [
    "figure(num=None, figsize=(8, 6), dpi=100, facecolor='w', edgecolor='k')\n",
    "\n",
    "# plt.plot([-2, -0.65], [empiric_distr(-0.65, intervals, acc_freq), \n",
    "#                              empiric_distr(-0.65, intervals, acc_freq)], color = 'b')\n",
    "# for x1, x2 in intervals[:-1]:\n",
    "#         plt.plot([x1, x2], [empiric_distr(x2,intervals, acc_freq), \n",
    "#                              empiric_distr(x2,intervals, acc_freq)],\n",
    "#                      color = 'b')\n",
    "# plt.plot([18.88,22], [empiric_distr(22, intervals, acc_freq), \n",
    "#                              empiric_distr(22, intervals, acc_freq)], color = 'b')\n",
    "        \n",
    "# for i in pre_intervals:\n",
    "#     plt.plot([i, i], [empiric_distr(i, intervals, acc_freq), \n",
    "#                       empiric_distr(i + 2.07, intervals, acc_freq)], color='black', linestyle='dotted')\n",
    "    \n",
    "# pre_intervals.remove(16.71)    \n",
    "# plt.scatter(pre_intervals[:-1], [empiric_distr(i+ 2.07, intervals, acc_freq) for i in pre_intervals[:-1]], \n",
    "#             marker = '<', color = 'b')\n",
    "# pre_intervals.append(16.71)\n",
    "# pre_intervals = list(sorted(pre_intervals))\n",
    "\n",
    "plt.xticks(pre_intervals)\n",
    "plt.yticks([i for i in np.arange(0.0, 1.1, 0.1)])\n",
    "plt.axis([-2, 22, -0.1, 1.1])\n",
    "plt.title('\"Гладка\" емпiрична ФР та ФР гiпотетичного закону')\n",
    "plt.ylabel('$y = F_n^*(x)$')\n",
    "plt.xlabel('$x$')\n",
    "# plt.plot(np.array(pre_intervals[1:])-2.17/2, [empiric_distribution(i, intervals, acc_freq)\n",
    "#                                           for i in np.array(pre_intervals[1:])-2.17/2], color='red')\n",
    "# plt.plot([-0.65, -0.65+2.17/2],[empiric_distribution(i, intervals, acc_freq)\n",
    "#                                           for i in [-0.65, -0.65+2.17/2]], color='red' )\n",
    "\n",
    "plt.plot(sorted_data,[i/100 for i,j in enumerate(sorted_data)], color = 'orange')\n",
    "def shifted_exp_cdf(lamb, a, x):\n",
    "    return 1 - np.exp((-1/lamb)*(x-a))\n",
    "plt.plot(np.array(sorted_data), shifted_exp_cdf(4.4271,-0.65, np.array(sorted_data)), 'b', linewidth=1.5)\n",
    "plt.savefig('hyp_exp_smoothed.png', dpi = 300)\n",
    "# plt_plot(sorted_data)\n",
    "\n",
    "plt.show()\n",
    "\n"
   ]
  },
  {
   "cell_type": "code",
   "execution_count": 510,
   "id": "c2cf3c14",
   "metadata": {},
   "outputs": [
    {
     "data": {
      "text/plain": [
       "[-0.65, 1.52, 3.69, 5.86, 8.03, 10.2, 12.37, 14.54, 16.71, 18.88, 21.05]"
      ]
     },
     "execution_count": 510,
     "metadata": {},
     "output_type": "execute_result"
    }
   ],
   "source": [
    "pre_intervals"
   ]
  },
  {
   "cell_type": "code",
   "execution_count": 514,
   "id": "5f673233",
   "metadata": {},
   "outputs": [
    {
     "data": {
      "text/plain": [
       "array([ 0.435,  2.605,  4.775,  6.945,  9.115, 11.285, 13.455, 15.625,\n",
       "       17.795, 19.965, 22.135])"
      ]
     },
     "execution_count": 514,
     "metadata": {},
     "output_type": "execute_result"
    }
   ],
   "source": [
    "np.array(pre_intervals)+2.17/2"
   ]
  },
  {
   "cell_type": "code",
   "execution_count": 205,
   "id": "ace31e40",
   "metadata": {},
   "outputs": [
    {
     "data": {
      "text/plain": [
       "[-0.65, 1.52, 3.69, 5.86, 8.03, 10.2, 12.37, 14.54, 16.71, 18.88, 21.05]"
      ]
     },
     "execution_count": 205,
     "metadata": {},
     "output_type": "execute_result"
    }
   ],
   "source": [
    "pre_intervals"
   ]
  },
  {
   "cell_type": "code",
   "execution_count": 217,
   "id": "30b8245e",
   "metadata": {},
   "outputs": [
    {
     "data": {
      "text/plain": [
       "[0.0,\n",
       " 0.3875,\n",
       " 0.6248,\n",
       " 0.7702,\n",
       " 0.8592,\n",
       " 0.9138,\n",
       " 0.9472,\n",
       " 0.9676,\n",
       " 0.9802,\n",
       " 0.9879,\n",
       " 0.9926]"
      ]
     },
     "execution_count": 217,
     "metadata": {},
     "output_type": "execute_result"
    }
   ],
   "source": [
    "# def prob_smoothed_ex((lamb, a, x):\n",
    "#     return 1 - np.exp((-1/lamb)*(x-a))\n",
    "\n",
    "prob = [ round(i, 4) for i in shifted_exp_cdf(4.4271,-0.65, np.array(pre_intervals))]\n",
    "prob"
   ]
  },
  {
   "cell_type": "code",
   "execution_count": 231,
   "id": "bcec9d98",
   "metadata": {},
   "outputs": [
    {
     "data": {
      "text/plain": [
       "0.1454"
      ]
     },
     "execution_count": 231,
     "metadata": {},
     "output_type": "execute_result"
    }
   ],
   "source": [
    "round(prob[3]-prob[2],4)"
   ]
  },
  {
   "cell_type": "code",
   "execution_count": 232,
   "id": "ceca319e",
   "metadata": {},
   "outputs": [
    {
     "data": {
      "text/plain": [
       "0.2298"
      ]
     },
     "execution_count": 232,
     "metadata": {},
     "output_type": "execute_result"
    }
   ],
   "source": [
    "round(1-prob[3],4)"
   ]
  },
  {
   "cell_type": "code",
   "execution_count": 243,
   "id": "ca54fbbc",
   "metadata": {},
   "outputs": [
    {
     "data": {
      "text/plain": [
       "1.0"
      ]
     },
     "execution_count": 243,
     "metadata": {},
     "output_type": "execute_result"
    }
   ],
   "source": [
    "r = [round(prob[i+1]-prob[i],4) for i in range(3)]\n",
    "r.append(round(1-prob[3],4))\n",
    "sum(r)"
   ]
  },
  {
   "cell_type": "code",
   "execution_count": 247,
   "id": "10a7b475",
   "metadata": {},
   "outputs": [],
   "source": [
    "form1 = lambda ni, npi: (ni-npi)**2/npi"
   ]
  },
  {
   "cell_type": "code",
   "execution_count": 248,
   "id": "f8038151",
   "metadata": {},
   "outputs": [],
   "source": [
    "ni = np.array([41, 24, 14, 21 ])\n",
    "npi = np.array([ 38.75, 23.73,14.54, 22.98 ])"
   ]
  },
  {
   "cell_type": "code",
   "execution_count": 249,
   "id": "b2db73b7",
   "metadata": {},
   "outputs": [
    {
     "data": {
      "text/plain": [
       "array([0.13064516, 0.00307206, 0.02005502, 0.17060052])"
      ]
     },
     "execution_count": 249,
     "metadata": {},
     "output_type": "execute_result"
    }
   ],
   "source": [
    "form1(ni, npi)"
   ]
  },
  {
   "cell_type": "code",
   "execution_count": 252,
   "id": "d3f3db02",
   "metadata": {},
   "outputs": [
    {
     "data": {
      "text/plain": [
       "0.32437276"
      ]
     },
     "execution_count": 252,
     "metadata": {},
     "output_type": "execute_result"
    }
   ],
   "source": [
    "round(sum(form1(ni, npi)),8)"
   ]
  },
  {
   "cell_type": "code",
   "execution_count": null,
   "id": "f01482b8",
   "metadata": {},
   "outputs": [],
   "source": []
  }
 ],
 "metadata": {
  "kernelspec": {
   "display_name": "Python 3 (ipykernel)",
   "language": "python",
   "name": "python3"
  },
  "language_info": {
   "codemirror_mode": {
    "name": "ipython",
    "version": 3
   },
   "file_extension": ".py",
   "mimetype": "text/x-python",
   "name": "python",
   "nbconvert_exporter": "python",
   "pygments_lexer": "ipython3",
   "version": "3.9.5"
  }
 },
 "nbformat": 4,
 "nbformat_minor": 5
}
